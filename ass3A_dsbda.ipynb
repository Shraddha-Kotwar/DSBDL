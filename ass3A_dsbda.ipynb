{
 "cells": [
  {
   "cell_type": "markdown",
   "id": "03febc2a",
   "metadata": {},
   "source": [
    "# Problem Statement"
   ]
  },
  {
   "cell_type": "markdown",
   "id": "3eb85028",
   "metadata": {},
   "source": [
    "1. Load the MallCustomer dataset in dataframe object df\n",
    "2. Display summary statistics (mean, median, minimum, maximum, standard deviation) for\n",
    "a dataset for each column\n",
    "3. Display Measures of Dispersion ( Mean Absolute Deviation, Variance, Standard Deviation,\n",
    "Range, Quartiles, Skewness)\n",
    "4. if your categorical variable is age groupsa nd quantitative variable is income, then\n",
    "provide summary statistics (minimum and maximum) of income grouped by the age\n",
    "groups."
   ]
  },
  {
   "cell_type": "markdown",
   "id": "5fc742bc",
   "metadata": {},
   "source": [
    "# Importing Libraries"
   ]
  },
  {
   "cell_type": "code",
   "execution_count": 1,
   "id": "380b31d6",
   "metadata": {},
   "outputs": [
    {
     "name": "stderr",
     "output_type": "stream",
     "text": [
      "C:\\Users\\OM\\AppData\\Roaming\\Python\\Python311\\site-packages\\pandas\\core\\arrays\\masked.py:60: UserWarning: Pandas requires version '1.3.6' or newer of 'bottleneck' (version '1.3.5' currently installed).\n",
      "  from pandas.core import (\n"
     ]
    }
   ],
   "source": [
    "import numpy as np\n",
    "import pandas as pd"
   ]
  },
  {
   "cell_type": "markdown",
   "id": "9e737265",
   "metadata": {},
   "source": [
    "# Importing the dataset"
   ]
  },
  {
   "cell_type": "code",
   "execution_count": 3,
   "id": "7bc88c42",
   "metadata": {},
   "outputs": [],
   "source": [
    "df=pd.read_csv(r\"C:\\Users\\OM\\Downloads\\Mall_Customers.csv\")"
   ]
  },
  {
   "cell_type": "markdown",
   "id": "9f512f69",
   "metadata": {},
   "source": [
    "# Data Preprocessing"
   ]
  },
  {
   "cell_type": "code",
   "execution_count": 4,
   "id": "3f1039db",
   "metadata": {},
   "outputs": [
    {
     "data": {
      "text/html": [
       "<div>\n",
       "<style scoped>\n",
       "    .dataframe tbody tr th:only-of-type {\n",
       "        vertical-align: middle;\n",
       "    }\n",
       "\n",
       "    .dataframe tbody tr th {\n",
       "        vertical-align: top;\n",
       "    }\n",
       "\n",
       "    .dataframe thead th {\n",
       "        text-align: right;\n",
       "    }\n",
       "</style>\n",
       "<table border=\"1\" class=\"dataframe\">\n",
       "  <thead>\n",
       "    <tr style=\"text-align: right;\">\n",
       "      <th></th>\n",
       "      <th>CustomerID</th>\n",
       "      <th>Genre</th>\n",
       "      <th>Age</th>\n",
       "      <th>Annual Income (k$)</th>\n",
       "      <th>Spending Score (1-100)</th>\n",
       "    </tr>\n",
       "  </thead>\n",
       "  <tbody>\n",
       "    <tr>\n",
       "      <th>0</th>\n",
       "      <td>1</td>\n",
       "      <td>Male</td>\n",
       "      <td>19</td>\n",
       "      <td>15</td>\n",
       "      <td>39</td>\n",
       "    </tr>\n",
       "    <tr>\n",
       "      <th>1</th>\n",
       "      <td>2</td>\n",
       "      <td>Male</td>\n",
       "      <td>21</td>\n",
       "      <td>15</td>\n",
       "      <td>81</td>\n",
       "    </tr>\n",
       "    <tr>\n",
       "      <th>2</th>\n",
       "      <td>3</td>\n",
       "      <td>Female</td>\n",
       "      <td>20</td>\n",
       "      <td>16</td>\n",
       "      <td>6</td>\n",
       "    </tr>\n",
       "    <tr>\n",
       "      <th>3</th>\n",
       "      <td>4</td>\n",
       "      <td>Female</td>\n",
       "      <td>23</td>\n",
       "      <td>16</td>\n",
       "      <td>77</td>\n",
       "    </tr>\n",
       "    <tr>\n",
       "      <th>4</th>\n",
       "      <td>5</td>\n",
       "      <td>Female</td>\n",
       "      <td>31</td>\n",
       "      <td>17</td>\n",
       "      <td>40</td>\n",
       "    </tr>\n",
       "  </tbody>\n",
       "</table>\n",
       "</div>"
      ],
      "text/plain": [
       "   CustomerID   Genre  Age  Annual Income (k$)  Spending Score (1-100)\n",
       "0           1    Male   19                  15                      39\n",
       "1           2    Male   21                  15                      81\n",
       "2           3  Female   20                  16                       6\n",
       "3           4  Female   23                  16                      77\n",
       "4           5  Female   31                  17                      40"
      ]
     },
     "execution_count": 4,
     "metadata": {},
     "output_type": "execute_result"
    }
   ],
   "source": [
    "df.head()"
   ]
  },
  {
   "cell_type": "code",
   "execution_count": 6,
   "id": "7ec0d04b",
   "metadata": {},
   "outputs": [
    {
     "data": {
      "text/html": [
       "<div>\n",
       "<style scoped>\n",
       "    .dataframe tbody tr th:only-of-type {\n",
       "        vertical-align: middle;\n",
       "    }\n",
       "\n",
       "    .dataframe tbody tr th {\n",
       "        vertical-align: top;\n",
       "    }\n",
       "\n",
       "    .dataframe thead th {\n",
       "        text-align: right;\n",
       "    }\n",
       "</style>\n",
       "<table border=\"1\" class=\"dataframe\">\n",
       "  <thead>\n",
       "    <tr style=\"text-align: right;\">\n",
       "      <th></th>\n",
       "      <th>CustomerID</th>\n",
       "      <th>Genre</th>\n",
       "      <th>Age</th>\n",
       "      <th>Annual Income (k$)</th>\n",
       "      <th>Spending Score (1-100)</th>\n",
       "    </tr>\n",
       "  </thead>\n",
       "  <tbody>\n",
       "    <tr>\n",
       "      <th>195</th>\n",
       "      <td>196</td>\n",
       "      <td>Female</td>\n",
       "      <td>35</td>\n",
       "      <td>120</td>\n",
       "      <td>79</td>\n",
       "    </tr>\n",
       "    <tr>\n",
       "      <th>196</th>\n",
       "      <td>197</td>\n",
       "      <td>Female</td>\n",
       "      <td>45</td>\n",
       "      <td>126</td>\n",
       "      <td>28</td>\n",
       "    </tr>\n",
       "    <tr>\n",
       "      <th>197</th>\n",
       "      <td>198</td>\n",
       "      <td>Male</td>\n",
       "      <td>32</td>\n",
       "      <td>126</td>\n",
       "      <td>74</td>\n",
       "    </tr>\n",
       "    <tr>\n",
       "      <th>198</th>\n",
       "      <td>199</td>\n",
       "      <td>Male</td>\n",
       "      <td>32</td>\n",
       "      <td>137</td>\n",
       "      <td>18</td>\n",
       "    </tr>\n",
       "    <tr>\n",
       "      <th>199</th>\n",
       "      <td>200</td>\n",
       "      <td>Male</td>\n",
       "      <td>30</td>\n",
       "      <td>137</td>\n",
       "      <td>83</td>\n",
       "    </tr>\n",
       "  </tbody>\n",
       "</table>\n",
       "</div>"
      ],
      "text/plain": [
       "     CustomerID   Genre  Age  Annual Income (k$)  Spending Score (1-100)\n",
       "195         196  Female   35                 120                      79\n",
       "196         197  Female   45                 126                      28\n",
       "197         198    Male   32                 126                      74\n",
       "198         199    Male   32                 137                      18\n",
       "199         200    Male   30                 137                      83"
      ]
     },
     "execution_count": 6,
     "metadata": {},
     "output_type": "execute_result"
    }
   ],
   "source": [
    "df.tail()"
   ]
  },
  {
   "cell_type": "code",
   "execution_count": 7,
   "id": "ce1630eb",
   "metadata": {},
   "outputs": [
    {
     "data": {
      "text/plain": [
       "(200, 5)"
      ]
     },
     "execution_count": 7,
     "metadata": {},
     "output_type": "execute_result"
    }
   ],
   "source": [
    "df.shape"
   ]
  },
  {
   "cell_type": "code",
   "execution_count": 8,
   "id": "19730110",
   "metadata": {},
   "outputs": [
    {
     "data": {
      "text/plain": [
       "Index(['CustomerID', 'Genre', 'Age', 'Annual Income (k$)',\n",
       "       'Spending Score (1-100)'],\n",
       "      dtype='object')"
      ]
     },
     "execution_count": 8,
     "metadata": {},
     "output_type": "execute_result"
    }
   ],
   "source": [
    "df.columns"
   ]
  },
  {
   "cell_type": "code",
   "execution_count": 9,
   "id": "688a9e1a",
   "metadata": {},
   "outputs": [
    {
     "data": {
      "text/html": [
       "<div>\n",
       "<style scoped>\n",
       "    .dataframe tbody tr th:only-of-type {\n",
       "        vertical-align: middle;\n",
       "    }\n",
       "\n",
       "    .dataframe tbody tr th {\n",
       "        vertical-align: top;\n",
       "    }\n",
       "\n",
       "    .dataframe thead th {\n",
       "        text-align: right;\n",
       "    }\n",
       "</style>\n",
       "<table border=\"1\" class=\"dataframe\">\n",
       "  <thead>\n",
       "    <tr style=\"text-align: right;\">\n",
       "      <th></th>\n",
       "      <th>CustomerID</th>\n",
       "      <th>Age</th>\n",
       "      <th>Annual Income (k$)</th>\n",
       "      <th>Spending Score (1-100)</th>\n",
       "    </tr>\n",
       "  </thead>\n",
       "  <tbody>\n",
       "    <tr>\n",
       "      <th>count</th>\n",
       "      <td>200.000000</td>\n",
       "      <td>200.000000</td>\n",
       "      <td>200.000000</td>\n",
       "      <td>200.000000</td>\n",
       "    </tr>\n",
       "    <tr>\n",
       "      <th>mean</th>\n",
       "      <td>100.500000</td>\n",
       "      <td>38.850000</td>\n",
       "      <td>60.560000</td>\n",
       "      <td>50.200000</td>\n",
       "    </tr>\n",
       "    <tr>\n",
       "      <th>std</th>\n",
       "      <td>57.879185</td>\n",
       "      <td>13.969007</td>\n",
       "      <td>26.264721</td>\n",
       "      <td>25.823522</td>\n",
       "    </tr>\n",
       "    <tr>\n",
       "      <th>min</th>\n",
       "      <td>1.000000</td>\n",
       "      <td>18.000000</td>\n",
       "      <td>15.000000</td>\n",
       "      <td>1.000000</td>\n",
       "    </tr>\n",
       "    <tr>\n",
       "      <th>25%</th>\n",
       "      <td>50.750000</td>\n",
       "      <td>28.750000</td>\n",
       "      <td>41.500000</td>\n",
       "      <td>34.750000</td>\n",
       "    </tr>\n",
       "    <tr>\n",
       "      <th>50%</th>\n",
       "      <td>100.500000</td>\n",
       "      <td>36.000000</td>\n",
       "      <td>61.500000</td>\n",
       "      <td>50.000000</td>\n",
       "    </tr>\n",
       "    <tr>\n",
       "      <th>75%</th>\n",
       "      <td>150.250000</td>\n",
       "      <td>49.000000</td>\n",
       "      <td>78.000000</td>\n",
       "      <td>73.000000</td>\n",
       "    </tr>\n",
       "    <tr>\n",
       "      <th>max</th>\n",
       "      <td>200.000000</td>\n",
       "      <td>70.000000</td>\n",
       "      <td>137.000000</td>\n",
       "      <td>99.000000</td>\n",
       "    </tr>\n",
       "  </tbody>\n",
       "</table>\n",
       "</div>"
      ],
      "text/plain": [
       "       CustomerID         Age  Annual Income (k$)  Spending Score (1-100)\n",
       "count  200.000000  200.000000          200.000000              200.000000\n",
       "mean   100.500000   38.850000           60.560000               50.200000\n",
       "std     57.879185   13.969007           26.264721               25.823522\n",
       "min      1.000000   18.000000           15.000000                1.000000\n",
       "25%     50.750000   28.750000           41.500000               34.750000\n",
       "50%    100.500000   36.000000           61.500000               50.000000\n",
       "75%    150.250000   49.000000           78.000000               73.000000\n",
       "max    200.000000   70.000000          137.000000               99.000000"
      ]
     },
     "execution_count": 9,
     "metadata": {},
     "output_type": "execute_result"
    }
   ],
   "source": [
    "df.describe()"
   ]
  },
  {
   "cell_type": "code",
   "execution_count": 10,
   "id": "d62568f7",
   "metadata": {},
   "outputs": [
    {
     "data": {
      "text/html": [
       "<div>\n",
       "<style scoped>\n",
       "    .dataframe tbody tr th:only-of-type {\n",
       "        vertical-align: middle;\n",
       "    }\n",
       "\n",
       "    .dataframe tbody tr th {\n",
       "        vertical-align: top;\n",
       "    }\n",
       "\n",
       "    .dataframe thead th {\n",
       "        text-align: right;\n",
       "    }\n",
       "</style>\n",
       "<table border=\"1\" class=\"dataframe\">\n",
       "  <thead>\n",
       "    <tr style=\"text-align: right;\">\n",
       "      <th></th>\n",
       "      <th>CustomerID</th>\n",
       "      <th>Genre</th>\n",
       "      <th>Age</th>\n",
       "      <th>Annual Income (k$)</th>\n",
       "      <th>Spending Score (1-100)</th>\n",
       "    </tr>\n",
       "  </thead>\n",
       "  <tbody>\n",
       "    <tr>\n",
       "      <th>0</th>\n",
       "      <td>False</td>\n",
       "      <td>False</td>\n",
       "      <td>False</td>\n",
       "      <td>False</td>\n",
       "      <td>False</td>\n",
       "    </tr>\n",
       "    <tr>\n",
       "      <th>1</th>\n",
       "      <td>False</td>\n",
       "      <td>False</td>\n",
       "      <td>False</td>\n",
       "      <td>False</td>\n",
       "      <td>False</td>\n",
       "    </tr>\n",
       "    <tr>\n",
       "      <th>2</th>\n",
       "      <td>False</td>\n",
       "      <td>False</td>\n",
       "      <td>False</td>\n",
       "      <td>False</td>\n",
       "      <td>False</td>\n",
       "    </tr>\n",
       "    <tr>\n",
       "      <th>3</th>\n",
       "      <td>False</td>\n",
       "      <td>False</td>\n",
       "      <td>False</td>\n",
       "      <td>False</td>\n",
       "      <td>False</td>\n",
       "    </tr>\n",
       "    <tr>\n",
       "      <th>4</th>\n",
       "      <td>False</td>\n",
       "      <td>False</td>\n",
       "      <td>False</td>\n",
       "      <td>False</td>\n",
       "      <td>False</td>\n",
       "    </tr>\n",
       "    <tr>\n",
       "      <th>...</th>\n",
       "      <td>...</td>\n",
       "      <td>...</td>\n",
       "      <td>...</td>\n",
       "      <td>...</td>\n",
       "      <td>...</td>\n",
       "    </tr>\n",
       "    <tr>\n",
       "      <th>195</th>\n",
       "      <td>False</td>\n",
       "      <td>False</td>\n",
       "      <td>False</td>\n",
       "      <td>False</td>\n",
       "      <td>False</td>\n",
       "    </tr>\n",
       "    <tr>\n",
       "      <th>196</th>\n",
       "      <td>False</td>\n",
       "      <td>False</td>\n",
       "      <td>False</td>\n",
       "      <td>False</td>\n",
       "      <td>False</td>\n",
       "    </tr>\n",
       "    <tr>\n",
       "      <th>197</th>\n",
       "      <td>False</td>\n",
       "      <td>False</td>\n",
       "      <td>False</td>\n",
       "      <td>False</td>\n",
       "      <td>False</td>\n",
       "    </tr>\n",
       "    <tr>\n",
       "      <th>198</th>\n",
       "      <td>False</td>\n",
       "      <td>False</td>\n",
       "      <td>False</td>\n",
       "      <td>False</td>\n",
       "      <td>False</td>\n",
       "    </tr>\n",
       "    <tr>\n",
       "      <th>199</th>\n",
       "      <td>False</td>\n",
       "      <td>False</td>\n",
       "      <td>False</td>\n",
       "      <td>False</td>\n",
       "      <td>False</td>\n",
       "    </tr>\n",
       "  </tbody>\n",
       "</table>\n",
       "<p>200 rows × 5 columns</p>\n",
       "</div>"
      ],
      "text/plain": [
       "     CustomerID  Genre    Age  Annual Income (k$)  Spending Score (1-100)\n",
       "0         False  False  False               False                   False\n",
       "1         False  False  False               False                   False\n",
       "2         False  False  False               False                   False\n",
       "3         False  False  False               False                   False\n",
       "4         False  False  False               False                   False\n",
       "..          ...    ...    ...                 ...                     ...\n",
       "195       False  False  False               False                   False\n",
       "196       False  False  False               False                   False\n",
       "197       False  False  False               False                   False\n",
       "198       False  False  False               False                   False\n",
       "199       False  False  False               False                   False\n",
       "\n",
       "[200 rows x 5 columns]"
      ]
     },
     "execution_count": 10,
     "metadata": {},
     "output_type": "execute_result"
    }
   ],
   "source": [
    "df.isnull()"
   ]
  },
  {
   "cell_type": "code",
   "execution_count": 11,
   "id": "fb52b01e",
   "metadata": {},
   "outputs": [
    {
     "data": {
      "text/plain": [
       "CustomerID                0\n",
       "Genre                     0\n",
       "Age                       0\n",
       "Annual Income (k$)        0\n",
       "Spending Score (1-100)    0\n",
       "dtype: int64"
      ]
     },
     "execution_count": 11,
     "metadata": {},
     "output_type": "execute_result"
    }
   ],
   "source": [
    "df.isnull().sum()"
   ]
  },
  {
   "cell_type": "code",
   "execution_count": 13,
   "id": "3fbe8f04",
   "metadata": {},
   "outputs": [
    {
     "data": {
      "text/plain": [
       "CustomerID                 int64\n",
       "Genre                     object\n",
       "Age                        int64\n",
       "Annual Income (k$)         int64\n",
       "Spending Score (1-100)     int64\n",
       "dtype: object"
      ]
     },
     "execution_count": 13,
     "metadata": {},
     "output_type": "execute_result"
    }
   ],
   "source": [
    "df.dtypes"
   ]
  },
  {
   "cell_type": "code",
   "execution_count": 14,
   "id": "9bcfb554",
   "metadata": {},
   "outputs": [
    {
     "name": "stdout",
     "output_type": "stream",
     "text": [
      "    Genre    Age                                                       \\\n",
      "           count       mean        std   min    25%   50%   75%   max   \n",
      "0  Female  112.0  38.098214  12.644095  18.0  29.00  35.0  47.5  68.0   \n",
      "1    Male   88.0  39.806818  15.514812  18.0  27.75  37.0  50.5  70.0   \n",
      "\n",
      "  Annual Income (k$)  ...               Spending Score (1-100)             \\\n",
      "               count  ...    75%    max                  count       mean   \n",
      "0              112.0  ...  77.25  126.0                  112.0  51.526786   \n",
      "1               88.0  ...  78.00  137.0                   88.0  48.511364   \n",
      "\n",
      "                                          \n",
      "        std  min   25%   50%   75%   max  \n",
      "0  24.11495  5.0  35.0  50.0  73.0  99.0  \n",
      "1  27.89677  1.0  24.5  50.0  70.0  97.0  \n",
      "\n",
      "[2 rows x 25 columns]\n"
     ]
    }
   ],
   "source": [
    "# Group by 'genre' and calculate summary statistics for numeric variables\n",
    "summary_stats = df.groupby('Genre').describe()\n",
    "\n",
    "# Extract relevant statistics (mean, median, min, max, std) for each numeric variable\n",
    "numeric_stats = summary_stats[['Age', 'Annual Income (k$)', 'Spending Score (1-100)']].reset_index()\n",
    "\n",
    "# Display the summary statistics\n",
    "print(numeric_stats)"
   ]
  },
  {
   "cell_type": "markdown",
   "id": "b0ac1ca0",
   "metadata": {},
   "source": [
    "# Mean"
   ]
  },
  {
   "cell_type": "code",
   "execution_count": 18,
   "id": "de2429e2",
   "metadata": {},
   "outputs": [
    {
     "name": "stdout",
     "output_type": "stream",
     "text": [
      "              Age  Annual Income (k$)  Spending Score (1-100)\n",
      "Genre                                                        \n",
      "Female  38.098214           59.250000               51.526786\n",
      "Male    39.806818           62.227273               48.511364\n"
     ]
    }
   ],
   "source": [
    "# Convert numeric columns to numeric data type\n",
    "numeric_cols = ['Age', 'Annual Income (k$)', 'Spending Score (1-100)']\n",
    "df[numeric_cols] = df[numeric_cols].apply(pd.to_numeric, errors='coerce')\n",
    "\n",
    "# Now, you can compute mean for each numeric column grouped by 'genre'\n",
    "mean_stats = df.groupby('Genre')[numeric_cols].mean()\n",
    "\n",
    "# Display the mean statistics\n",
    "print(mean_stats)"
   ]
  },
  {
   "cell_type": "code",
   "execution_count": 20,
   "id": "f2180475",
   "metadata": {},
   "outputs": [
    {
     "data": {
      "text/plain": [
       "Age                       38.85\n",
       "Annual Income (k$)        60.56\n",
       "Spending Score (1-100)    50.20\n",
       "dtype: float64"
      ]
     },
     "execution_count": 20,
     "metadata": {},
     "output_type": "execute_result"
    }
   ],
   "source": [
    "df[numeric_cols].mean()"
   ]
  },
  {
   "cell_type": "code",
   "execution_count": 22,
   "id": "e2cc5fae",
   "metadata": {},
   "outputs": [
    {
     "data": {
      "text/plain": [
       "38.85"
      ]
     },
     "execution_count": 22,
     "metadata": {},
     "output_type": "execute_result"
    }
   ],
   "source": [
    "df['Age'].mean()"
   ]
  },
  {
   "cell_type": "code",
   "execution_count": 24,
   "id": "3d7d7803",
   "metadata": {},
   "outputs": [
    {
     "data": {
      "text/plain": [
       "38.85"
      ]
     },
     "execution_count": 24,
     "metadata": {},
     "output_type": "execute_result"
    }
   ],
   "source": [
    "df.loc[:,'Age'].mean()"
   ]
  },
  {
   "cell_type": "code",
   "execution_count": 27,
   "id": "0226d40d",
   "metadata": {},
   "outputs": [
    {
     "name": "stdout",
     "output_type": "stream",
     "text": [
      "0    24.333333\n",
      "1    39.000000\n",
      "2    14.000000\n",
      "3    38.666667\n",
      "dtype: float64\n"
     ]
    }
   ],
   "source": [
    "mean_values = df[numeric_cols].iloc[0:4].mean(axis=1)\n",
    "print(mean_values)"
   ]
  },
  {
   "cell_type": "markdown",
   "id": "6d0a9d42",
   "metadata": {},
   "source": [
    "# Median"
   ]
  },
  {
   "cell_type": "code",
   "execution_count": 28,
   "id": "d844cf33",
   "metadata": {},
   "outputs": [
    {
     "name": "stdout",
     "output_type": "stream",
     "text": [
      "         Age  Annual Income (k$)  Spending Score (1-100)\n",
      "Genre                                                   \n",
      "Female  35.0                60.0                    50.0\n",
      "Male    37.0                62.5                    50.0\n"
     ]
    }
   ],
   "source": [
    "# Convert numeric columns to numeric data type\n",
    "numeric_cols = ['Age', 'Annual Income (k$)', 'Spending Score (1-100)']\n",
    "df[numeric_cols] = df[numeric_cols].apply(pd.to_numeric, errors='coerce')\n",
    "\n",
    "# Now, you can compute mean for each numeric column grouped by 'genre'\n",
    "median_stats = df.groupby('Genre')[numeric_cols].median()\n",
    "\n",
    "# Display the mean statistics\n",
    "print(median_stats)"
   ]
  },
  {
   "cell_type": "code",
   "execution_count": 30,
   "id": "110653b5",
   "metadata": {},
   "outputs": [
    {
     "data": {
      "text/plain": [
       "Age                       36.0\n",
       "Annual Income (k$)        61.5\n",
       "Spending Score (1-100)    50.0\n",
       "dtype: float64"
      ]
     },
     "execution_count": 30,
     "metadata": {},
     "output_type": "execute_result"
    }
   ],
   "source": [
    "df[numeric_cols].median()"
   ]
  },
  {
   "cell_type": "code",
   "execution_count": 31,
   "id": "51141fc3",
   "metadata": {},
   "outputs": [
    {
     "data": {
      "text/plain": [
       "36.0"
      ]
     },
     "execution_count": 31,
     "metadata": {},
     "output_type": "execute_result"
    }
   ],
   "source": [
    "df['Age'].median()"
   ]
  },
  {
   "cell_type": "code",
   "execution_count": 32,
   "id": "4a626591",
   "metadata": {},
   "outputs": [
    {
     "data": {
      "text/plain": [
       "36.0"
      ]
     },
     "execution_count": 32,
     "metadata": {},
     "output_type": "execute_result"
    }
   ],
   "source": [
    "df.loc[:,'Age'].median()"
   ]
  },
  {
   "cell_type": "code",
   "execution_count": 33,
   "id": "8a9f84d1",
   "metadata": {},
   "outputs": [
    {
     "name": "stdout",
     "output_type": "stream",
     "text": [
      "0    19.0\n",
      "1    21.0\n",
      "2    16.0\n",
      "3    23.0\n",
      "dtype: float64\n"
     ]
    }
   ],
   "source": [
    "median_values = df[numeric_cols].iloc[0:4].median(axis=1)\n",
    "print(median_values)"
   ]
  },
  {
   "cell_type": "markdown",
   "id": "b3086292",
   "metadata": {},
   "source": [
    "# Mode"
   ]
  },
  {
   "cell_type": "code",
   "execution_count": 35,
   "id": "0bc803ab",
   "metadata": {},
   "outputs": [
    {
     "name": "stdout",
     "output_type": "stream",
     "text": [
      "        Age  Annual Income (k$)  Spending Score (1-100)\n",
      "Genre                                                  \n",
      "Female   31                  78                      42\n",
      "Male     19                  54                      46\n"
     ]
    }
   ],
   "source": [
    "# Convert numeric columns to numeric data type\n",
    "numeric_cols = ['Age', 'Annual Income (k$)', 'Spending Score (1-100)']\n",
    "df[numeric_cols] = df[numeric_cols].apply(pd.to_numeric, errors='coerce')\n",
    "\n",
    "# Now, you can compute mean for each numeric column grouped by 'genre'\n",
    "mode_stats = df.groupby('Genre')[numeric_cols].agg(lambda x: x.mode().iloc[0])\n",
    "\n",
    "# Display the mean statistics\n",
    "print(mode_stats)"
   ]
  },
  {
   "cell_type": "code",
   "execution_count": 37,
   "id": "017371b0",
   "metadata": {},
   "outputs": [
    {
     "data": {
      "text/plain": [
       "0    32\n",
       "Name: Age, dtype: int64"
      ]
     },
     "execution_count": 37,
     "metadata": {},
     "output_type": "execute_result"
    }
   ],
   "source": [
    "df['Age'].mode()"
   ]
  },
  {
   "cell_type": "code",
   "execution_count": 39,
   "id": "3d178deb",
   "metadata": {},
   "outputs": [
    {
     "data": {
      "text/plain": [
       "0    32\n",
       "Name: Age, dtype: int64"
      ]
     },
     "execution_count": 39,
     "metadata": {},
     "output_type": "execute_result"
    }
   ],
   "source": [
    "df.loc[:,'Age'].mode()"
   ]
  },
  {
   "cell_type": "code",
   "execution_count": 40,
   "id": "8609b75e",
   "metadata": {},
   "outputs": [
    {
     "name": "stdout",
     "output_type": "stream",
     "text": [
      "    0   1   2\n",
      "0  15  19  39\n",
      "1  15  21  81\n",
      "2   6  16  20\n",
      "3  16  23  77\n"
     ]
    }
   ],
   "source": [
    "mode_values = df[numeric_cols].iloc[0:4].mode(axis=1)\n",
    "print(mode_values)"
   ]
  },
  {
   "cell_type": "markdown",
   "id": "736060c7",
   "metadata": {},
   "source": [
    "# Standard Deviation"
   ]
  },
  {
   "cell_type": "code",
   "execution_count": 43,
   "id": "d5b733a4",
   "metadata": {},
   "outputs": [
    {
     "data": {
      "text/plain": [
       "Age                       13.969007\n",
       "Annual Income (k$)        26.264721\n",
       "Spending Score (1-100)    25.823522\n",
       "dtype: float64"
      ]
     },
     "execution_count": 43,
     "metadata": {},
     "output_type": "execute_result"
    }
   ],
   "source": [
    "df[numeric_cols].std()"
   ]
  },
  {
   "cell_type": "code",
   "execution_count": 44,
   "id": "8c1935f1",
   "metadata": {},
   "outputs": [
    {
     "data": {
      "text/plain": [
       "13.96900733155888"
      ]
     },
     "execution_count": 44,
     "metadata": {},
     "output_type": "execute_result"
    }
   ],
   "source": [
    "df.loc[:,'Age'].std()"
   ]
  },
  {
   "cell_type": "code",
   "execution_count": 45,
   "id": "4c318eb7",
   "metadata": {},
   "outputs": [
    {
     "data": {
      "text/plain": [
       "13.96900733155888"
      ]
     },
     "execution_count": 45,
     "metadata": {},
     "output_type": "execute_result"
    }
   ],
   "source": [
    "df['Age'].std()"
   ]
  },
  {
   "cell_type": "code",
   "execution_count": 46,
   "id": "443037ec",
   "metadata": {},
   "outputs": [
    {
     "name": "stdout",
     "output_type": "stream",
     "text": [
      "    0   1   2\n",
      "0  15  19  39\n",
      "1  15  21  81\n",
      "2   6  16  20\n",
      "3  16  23  77\n"
     ]
    }
   ],
   "source": [
    "std_values = df[numeric_cols].iloc[0:4].mode(axis=1)\n",
    "print(std_values)"
   ]
  },
  {
   "cell_type": "markdown",
   "id": "18c04d86",
   "metadata": {},
   "source": [
    "# Min"
   ]
  },
  {
   "cell_type": "code",
   "execution_count": 47,
   "id": "ba8fc144",
   "metadata": {},
   "outputs": [
    {
     "data": {
      "text/plain": [
       "CustomerID                     1\n",
       "Genre                     Female\n",
       "Age                           18\n",
       "Annual Income (k$)            15\n",
       "Spending Score (1-100)         1\n",
       "dtype: object"
      ]
     },
     "execution_count": 47,
     "metadata": {},
     "output_type": "execute_result"
    }
   ],
   "source": [
    "df.min()"
   ]
  },
  {
   "cell_type": "code",
   "execution_count": 48,
   "id": "a3ba74a9",
   "metadata": {},
   "outputs": [
    {
     "data": {
      "text/plain": [
       "18"
      ]
     },
     "execution_count": 48,
     "metadata": {},
     "output_type": "execute_result"
    }
   ],
   "source": [
    "df.loc[:,'Age'].min(skipna=False)"
   ]
  },
  {
   "cell_type": "code",
   "execution_count": 49,
   "id": "f75eaa73",
   "metadata": {},
   "outputs": [
    {
     "data": {
      "text/plain": [
       "15"
      ]
     },
     "execution_count": 49,
     "metadata": {},
     "output_type": "execute_result"
    }
   ],
   "source": [
    "df.loc[:,'Annual Income (k$)'].min(skipna=False)"
   ]
  },
  {
   "cell_type": "markdown",
   "id": "d0308a58",
   "metadata": {},
   "source": [
    "# Max"
   ]
  },
  {
   "cell_type": "code",
   "execution_count": 50,
   "id": "ca033213",
   "metadata": {},
   "outputs": [
    {
     "data": {
      "text/plain": [
       "CustomerID                 200\n",
       "Genre                     Male\n",
       "Age                         70\n",
       "Annual Income (k$)         137\n",
       "Spending Score (1-100)      99\n",
       "dtype: object"
      ]
     },
     "execution_count": 50,
     "metadata": {},
     "output_type": "execute_result"
    }
   ],
   "source": [
    "df.max()"
   ]
  },
  {
   "cell_type": "code",
   "execution_count": 51,
   "id": "46469232",
   "metadata": {},
   "outputs": [
    {
     "data": {
      "text/plain": [
       "137"
      ]
     },
     "execution_count": 51,
     "metadata": {},
     "output_type": "execute_result"
    }
   ],
   "source": [
    "df.loc[:,'Annual Income (k$)'].max(skipna=False)"
   ]
  },
  {
   "cell_type": "code",
   "execution_count": 52,
   "id": "fbd87e0d",
   "metadata": {},
   "outputs": [
    {
     "data": {
      "text/plain": [
       "70"
      ]
     },
     "execution_count": 52,
     "metadata": {},
     "output_type": "execute_result"
    }
   ],
   "source": [
    "df.loc[:,'Age'].max(skipna=False)"
   ]
  },
  {
   "cell_type": "code",
   "execution_count": 56,
   "id": "4e151b63",
   "metadata": {},
   "outputs": [
    {
     "data": {
      "text/html": [
       "<div>\n",
       "<style scoped>\n",
       "    .dataframe tbody tr th:only-of-type {\n",
       "        vertical-align: middle;\n",
       "    }\n",
       "\n",
       "    .dataframe tbody tr th {\n",
       "        vertical-align: top;\n",
       "    }\n",
       "\n",
       "    .dataframe thead th {\n",
       "        text-align: right;\n",
       "    }\n",
       "</style>\n",
       "<table border=\"1\" class=\"dataframe\">\n",
       "  <thead>\n",
       "    <tr style=\"text-align: right;\">\n",
       "      <th></th>\n",
       "      <th>CustomerID</th>\n",
       "      <th>Genre</th>\n",
       "      <th>Age</th>\n",
       "      <th>Income</th>\n",
       "      <th>Spending Score (1-100)</th>\n",
       "    </tr>\n",
       "  </thead>\n",
       "  <tbody>\n",
       "    <tr>\n",
       "      <th>0</th>\n",
       "      <td>1</td>\n",
       "      <td>Male</td>\n",
       "      <td>19</td>\n",
       "      <td>15</td>\n",
       "      <td>39</td>\n",
       "    </tr>\n",
       "    <tr>\n",
       "      <th>1</th>\n",
       "      <td>2</td>\n",
       "      <td>Male</td>\n",
       "      <td>21</td>\n",
       "      <td>15</td>\n",
       "      <td>81</td>\n",
       "    </tr>\n",
       "    <tr>\n",
       "      <th>2</th>\n",
       "      <td>3</td>\n",
       "      <td>Female</td>\n",
       "      <td>20</td>\n",
       "      <td>16</td>\n",
       "      <td>6</td>\n",
       "    </tr>\n",
       "    <tr>\n",
       "      <th>3</th>\n",
       "      <td>4</td>\n",
       "      <td>Female</td>\n",
       "      <td>23</td>\n",
       "      <td>16</td>\n",
       "      <td>77</td>\n",
       "    </tr>\n",
       "    <tr>\n",
       "      <th>4</th>\n",
       "      <td>5</td>\n",
       "      <td>Female</td>\n",
       "      <td>31</td>\n",
       "      <td>17</td>\n",
       "      <td>40</td>\n",
       "    </tr>\n",
       "  </tbody>\n",
       "</table>\n",
       "</div>"
      ],
      "text/plain": [
       "   CustomerID   Genre  Age  Income  Spending Score (1-100)\n",
       "0           1    Male   19      15                      39\n",
       "1           2    Male   21      15                      81\n",
       "2           3  Female   20      16                       6\n",
       "3           4  Female   23      16                      77\n",
       "4           5  Female   31      17                      40"
      ]
     },
     "execution_count": 56,
     "metadata": {},
     "output_type": "execute_result"
    }
   ],
   "source": [
    "df.rename(columns={'Annual Income (k$)':'Income'})\n",
    "df.head()"
   ]
  },
  {
   "cell_type": "code",
   "execution_count": 57,
   "id": "d577c8d3",
   "metadata": {},
   "outputs": [
    {
     "data": {
      "text/html": [
       "<div>\n",
       "<style scoped>\n",
       "    .dataframe tbody tr th:only-of-type {\n",
       "        vertical-align: middle;\n",
       "    }\n",
       "\n",
       "    .dataframe tbody tr th {\n",
       "        vertical-align: top;\n",
       "    }\n",
       "\n",
       "    .dataframe thead th {\n",
       "        text-align: right;\n",
       "    }\n",
       "</style>\n",
       "<table border=\"1\" class=\"dataframe\">\n",
       "  <thead>\n",
       "    <tr style=\"text-align: right;\">\n",
       "      <th></th>\n",
       "      <th>CustomerID</th>\n",
       "      <th>Genre</th>\n",
       "      <th>Age</th>\n",
       "      <th>Income</th>\n",
       "      <th>Spending Score (1-100)</th>\n",
       "    </tr>\n",
       "  </thead>\n",
       "  <tbody>\n",
       "    <tr>\n",
       "      <th>0</th>\n",
       "      <td>1</td>\n",
       "      <td>Male</td>\n",
       "      <td>19</td>\n",
       "      <td>15</td>\n",
       "      <td>39</td>\n",
       "    </tr>\n",
       "    <tr>\n",
       "      <th>1</th>\n",
       "      <td>2</td>\n",
       "      <td>Male</td>\n",
       "      <td>21</td>\n",
       "      <td>15</td>\n",
       "      <td>81</td>\n",
       "    </tr>\n",
       "    <tr>\n",
       "      <th>2</th>\n",
       "      <td>3</td>\n",
       "      <td>Female</td>\n",
       "      <td>20</td>\n",
       "      <td>16</td>\n",
       "      <td>6</td>\n",
       "    </tr>\n",
       "    <tr>\n",
       "      <th>3</th>\n",
       "      <td>4</td>\n",
       "      <td>Female</td>\n",
       "      <td>23</td>\n",
       "      <td>16</td>\n",
       "      <td>77</td>\n",
       "    </tr>\n",
       "    <tr>\n",
       "      <th>4</th>\n",
       "      <td>5</td>\n",
       "      <td>Female</td>\n",
       "      <td>31</td>\n",
       "      <td>17</td>\n",
       "      <td>40</td>\n",
       "    </tr>\n",
       "  </tbody>\n",
       "</table>\n",
       "</div>"
      ],
      "text/plain": [
       "   CustomerID   Genre  Age  Income  Spending Score (1-100)\n",
       "0           1    Male   19      15                      39\n",
       "1           2    Male   21      15                      81\n",
       "2           3  Female   20      16                       6\n",
       "3           4  Female   23      16                      77\n",
       "4           5  Female   31      17                      40"
      ]
     },
     "execution_count": 57,
     "metadata": {},
     "output_type": "execute_result"
    }
   ],
   "source": [
    "df.head()"
   ]
  },
  {
   "cell_type": "markdown",
   "id": "9abfc7b0",
   "metadata": {},
   "source": [
    "# Applying One hot encoding to column Genre"
   ]
  },
  {
   "cell_type": "code",
   "execution_count": 59,
   "id": "deb08d37",
   "metadata": {},
   "outputs": [],
   "source": [
    "features_df=df.drop(columns=['Genre'])"
   ]
  },
  {
   "cell_type": "code",
   "execution_count": 60,
   "id": "5b0cadcc",
   "metadata": {},
   "outputs": [],
   "source": [
    "from sklearn import preprocessing"
   ]
  },
  {
   "cell_type": "code",
   "execution_count": 61,
   "id": "ca86182b",
   "metadata": {},
   "outputs": [],
   "source": [
    "one_enc = preprocessing.OneHotEncoder()"
   ]
  },
  {
   "cell_type": "code",
   "execution_count": 62,
   "id": "827da0d6",
   "metadata": {},
   "outputs": [
    {
     "name": "stdout",
     "output_type": "stream",
     "text": [
      "     0    1\n",
      "0  0.0  1.0\n",
      "1  0.0  1.0\n",
      "2  1.0  0.0\n",
      "3  1.0  0.0\n",
      "4  1.0  0.0\n"
     ]
    }
   ],
   "source": [
    "encoded_genre = one_enc.fit_transform(df[['Genre']])\n",
    "enc_df = pd.DataFrame(encoded_genre.toarray())\n",
    "print(enc_df.head())"
   ]
  },
  {
   "cell_type": "code",
   "execution_count": 63,
   "id": "8bec1601",
   "metadata": {},
   "outputs": [
    {
     "data": {
      "text/html": [
       "<div>\n",
       "<style scoped>\n",
       "    .dataframe tbody tr th:only-of-type {\n",
       "        vertical-align: middle;\n",
       "    }\n",
       "\n",
       "    .dataframe tbody tr th {\n",
       "        vertical-align: top;\n",
       "    }\n",
       "\n",
       "    .dataframe thead th {\n",
       "        text-align: right;\n",
       "    }\n",
       "</style>\n",
       "<table border=\"1\" class=\"dataframe\">\n",
       "  <thead>\n",
       "    <tr style=\"text-align: right;\">\n",
       "      <th></th>\n",
       "      <th>CustomerID</th>\n",
       "      <th>Age</th>\n",
       "      <th>Income</th>\n",
       "      <th>Spending Score (1-100)</th>\n",
       "      <th>0</th>\n",
       "      <th>1</th>\n",
       "    </tr>\n",
       "  </thead>\n",
       "  <tbody>\n",
       "    <tr>\n",
       "      <th>0</th>\n",
       "      <td>1</td>\n",
       "      <td>19</td>\n",
       "      <td>15</td>\n",
       "      <td>39</td>\n",
       "      <td>0.0</td>\n",
       "      <td>1.0</td>\n",
       "    </tr>\n",
       "    <tr>\n",
       "      <th>1</th>\n",
       "      <td>2</td>\n",
       "      <td>21</td>\n",
       "      <td>15</td>\n",
       "      <td>81</td>\n",
       "      <td>0.0</td>\n",
       "      <td>1.0</td>\n",
       "    </tr>\n",
       "    <tr>\n",
       "      <th>2</th>\n",
       "      <td>3</td>\n",
       "      <td>20</td>\n",
       "      <td>16</td>\n",
       "      <td>6</td>\n",
       "      <td>1.0</td>\n",
       "      <td>0.0</td>\n",
       "    </tr>\n",
       "    <tr>\n",
       "      <th>3</th>\n",
       "      <td>4</td>\n",
       "      <td>23</td>\n",
       "      <td>16</td>\n",
       "      <td>77</td>\n",
       "      <td>1.0</td>\n",
       "      <td>0.0</td>\n",
       "    </tr>\n",
       "    <tr>\n",
       "      <th>4</th>\n",
       "      <td>5</td>\n",
       "      <td>31</td>\n",
       "      <td>17</td>\n",
       "      <td>40</td>\n",
       "      <td>1.0</td>\n",
       "      <td>0.0</td>\n",
       "    </tr>\n",
       "    <tr>\n",
       "      <th>...</th>\n",
       "      <td>...</td>\n",
       "      <td>...</td>\n",
       "      <td>...</td>\n",
       "      <td>...</td>\n",
       "      <td>...</td>\n",
       "      <td>...</td>\n",
       "    </tr>\n",
       "    <tr>\n",
       "      <th>195</th>\n",
       "      <td>196</td>\n",
       "      <td>35</td>\n",
       "      <td>120</td>\n",
       "      <td>79</td>\n",
       "      <td>1.0</td>\n",
       "      <td>0.0</td>\n",
       "    </tr>\n",
       "    <tr>\n",
       "      <th>196</th>\n",
       "      <td>197</td>\n",
       "      <td>45</td>\n",
       "      <td>126</td>\n",
       "      <td>28</td>\n",
       "      <td>1.0</td>\n",
       "      <td>0.0</td>\n",
       "    </tr>\n",
       "    <tr>\n",
       "      <th>197</th>\n",
       "      <td>198</td>\n",
       "      <td>32</td>\n",
       "      <td>126</td>\n",
       "      <td>74</td>\n",
       "      <td>0.0</td>\n",
       "      <td>1.0</td>\n",
       "    </tr>\n",
       "    <tr>\n",
       "      <th>198</th>\n",
       "      <td>199</td>\n",
       "      <td>32</td>\n",
       "      <td>137</td>\n",
       "      <td>18</td>\n",
       "      <td>0.0</td>\n",
       "      <td>1.0</td>\n",
       "    </tr>\n",
       "    <tr>\n",
       "      <th>199</th>\n",
       "      <td>200</td>\n",
       "      <td>30</td>\n",
       "      <td>137</td>\n",
       "      <td>83</td>\n",
       "      <td>0.0</td>\n",
       "      <td>1.0</td>\n",
       "    </tr>\n",
       "  </tbody>\n",
       "</table>\n",
       "<p>200 rows × 6 columns</p>\n",
       "</div>"
      ],
      "text/plain": [
       "     CustomerID  Age  Income  Spending Score (1-100)    0    1\n",
       "0             1   19      15                      39  0.0  1.0\n",
       "1             2   21      15                      81  0.0  1.0\n",
       "2             3   20      16                       6  1.0  0.0\n",
       "3             4   23      16                      77  1.0  0.0\n",
       "4             5   31      17                      40  1.0  0.0\n",
       "..          ...  ...     ...                     ...  ...  ...\n",
       "195         196   35     120                      79  1.0  0.0\n",
       "196         197   45     126                      28  1.0  0.0\n",
       "197         198   32     126                      74  0.0  1.0\n",
       "198         199   32     137                      18  0.0  1.0\n",
       "199         200   30     137                      83  0.0  1.0\n",
       "\n",
       "[200 rows x 6 columns]"
      ]
     },
     "execution_count": 63,
     "metadata": {},
     "output_type": "execute_result"
    }
   ],
   "source": [
    "df_encode = features_df.join(enc_df)\n",
    "df_encode"
   ]
  },
  {
   "cell_type": "code",
   "execution_count": 64,
   "id": "7f218db0",
   "metadata": {},
   "outputs": [
    {
     "data": {
      "text/html": [
       "<div>\n",
       "<style scoped>\n",
       "    .dataframe tbody tr th:only-of-type {\n",
       "        vertical-align: middle;\n",
       "    }\n",
       "\n",
       "    .dataframe tbody tr th {\n",
       "        vertical-align: top;\n",
       "    }\n",
       "\n",
       "    .dataframe thead th {\n",
       "        text-align: right;\n",
       "    }\n",
       "</style>\n",
       "<table border=\"1\" class=\"dataframe\">\n",
       "  <thead>\n",
       "    <tr style=\"text-align: right;\">\n",
       "      <th></th>\n",
       "      <th>CustomerID</th>\n",
       "      <th>Age</th>\n",
       "      <th>Income</th>\n",
       "      <th>Spending Score (1-100)</th>\n",
       "      <th>Male</th>\n",
       "      <th>Female</th>\n",
       "    </tr>\n",
       "  </thead>\n",
       "  <tbody>\n",
       "    <tr>\n",
       "      <th>0</th>\n",
       "      <td>1</td>\n",
       "      <td>19</td>\n",
       "      <td>15</td>\n",
       "      <td>39</td>\n",
       "      <td>0.0</td>\n",
       "      <td>1.0</td>\n",
       "    </tr>\n",
       "    <tr>\n",
       "      <th>1</th>\n",
       "      <td>2</td>\n",
       "      <td>21</td>\n",
       "      <td>15</td>\n",
       "      <td>81</td>\n",
       "      <td>0.0</td>\n",
       "      <td>1.0</td>\n",
       "    </tr>\n",
       "    <tr>\n",
       "      <th>2</th>\n",
       "      <td>3</td>\n",
       "      <td>20</td>\n",
       "      <td>16</td>\n",
       "      <td>6</td>\n",
       "      <td>1.0</td>\n",
       "      <td>0.0</td>\n",
       "    </tr>\n",
       "    <tr>\n",
       "      <th>3</th>\n",
       "      <td>4</td>\n",
       "      <td>23</td>\n",
       "      <td>16</td>\n",
       "      <td>77</td>\n",
       "      <td>1.0</td>\n",
       "      <td>0.0</td>\n",
       "    </tr>\n",
       "    <tr>\n",
       "      <th>4</th>\n",
       "      <td>5</td>\n",
       "      <td>31</td>\n",
       "      <td>17</td>\n",
       "      <td>40</td>\n",
       "      <td>1.0</td>\n",
       "      <td>0.0</td>\n",
       "    </tr>\n",
       "    <tr>\n",
       "      <th>...</th>\n",
       "      <td>...</td>\n",
       "      <td>...</td>\n",
       "      <td>...</td>\n",
       "      <td>...</td>\n",
       "      <td>...</td>\n",
       "      <td>...</td>\n",
       "    </tr>\n",
       "    <tr>\n",
       "      <th>195</th>\n",
       "      <td>196</td>\n",
       "      <td>35</td>\n",
       "      <td>120</td>\n",
       "      <td>79</td>\n",
       "      <td>1.0</td>\n",
       "      <td>0.0</td>\n",
       "    </tr>\n",
       "    <tr>\n",
       "      <th>196</th>\n",
       "      <td>197</td>\n",
       "      <td>45</td>\n",
       "      <td>126</td>\n",
       "      <td>28</td>\n",
       "      <td>1.0</td>\n",
       "      <td>0.0</td>\n",
       "    </tr>\n",
       "    <tr>\n",
       "      <th>197</th>\n",
       "      <td>198</td>\n",
       "      <td>32</td>\n",
       "      <td>126</td>\n",
       "      <td>74</td>\n",
       "      <td>0.0</td>\n",
       "      <td>1.0</td>\n",
       "    </tr>\n",
       "    <tr>\n",
       "      <th>198</th>\n",
       "      <td>199</td>\n",
       "      <td>32</td>\n",
       "      <td>137</td>\n",
       "      <td>18</td>\n",
       "      <td>0.0</td>\n",
       "      <td>1.0</td>\n",
       "    </tr>\n",
       "    <tr>\n",
       "      <th>199</th>\n",
       "      <td>200</td>\n",
       "      <td>30</td>\n",
       "      <td>137</td>\n",
       "      <td>83</td>\n",
       "      <td>0.0</td>\n",
       "      <td>1.0</td>\n",
       "    </tr>\n",
       "  </tbody>\n",
       "</table>\n",
       "<p>200 rows × 6 columns</p>\n",
       "</div>"
      ],
      "text/plain": [
       "     CustomerID  Age  Income  Spending Score (1-100)  Male  Female\n",
       "0             1   19      15                      39   0.0     1.0\n",
       "1             2   21      15                      81   0.0     1.0\n",
       "2             3   20      16                       6   1.0     0.0\n",
       "3             4   23      16                      77   1.0     0.0\n",
       "4             5   31      17                      40   1.0     0.0\n",
       "..          ...  ...     ...                     ...   ...     ...\n",
       "195         196   35     120                      79   1.0     0.0\n",
       "196         197   45     126                      28   1.0     0.0\n",
       "197         198   32     126                      74   0.0     1.0\n",
       "198         199   32     137                      18   0.0     1.0\n",
       "199         200   30     137                      83   0.0     1.0\n",
       "\n",
       "[200 rows x 6 columns]"
      ]
     },
     "execution_count": 64,
     "metadata": {},
     "output_type": "execute_result"
    }
   ],
   "source": [
    "df_encode.rename(columns = {0:'Male',1:'Female'}, inplace = True)\n",
    "df_encode"
   ]
  },
  {
   "cell_type": "markdown",
   "id": "dda5be1e",
   "metadata": {},
   "source": [
    "## Measures of dispersion"
   ]
  },
  {
   "cell_type": "code",
   "execution_count": 74,
   "id": "65fc8da9",
   "metadata": {},
   "outputs": [
    {
     "name": "stdout",
     "output_type": "stream",
     "text": [
      "Measures of Dispersion:\n",
      "Variance: 689.8355778894472\n",
      "Standard Deviation: 26.264721165271244\n",
      "Range: 122\n",
      "Quartiles:\n",
      "0.25    41.5\n",
      "0.50    61.5\n",
      "0.75    78.0\n",
      "Name: Income, dtype: float64\n",
      "Skewness: 0.3218425498619055\n"
     ]
    }
   ],
   "source": [
    "# Calculate measures of dispersion\n",
    "#mean_abs_dev = df['Income'].mad()\n",
    "variance = df['Income'].var()\n",
    "std_dev = df['Income'].std()\n",
    "range_income = df['Income'].max() - df['Income'].min()\n",
    "quartiles = df['Income'].quantile([0.25, 0.5, 0.75])\n",
    "skewness = df['Income'].skew()\n",
    "\n",
    "# Display measures of dispersion\n",
    "print(\"Measures of Dispersion:\")\n",
    "#print(\"Mean Absolute Deviation:\", mean_abs_dev)\n",
    "print(\"Variance:\", variance)\n",
    "print(\"Standard Deviation:\", std_dev)\n",
    "print(\"Range:\", range_income)\n",
    "print(\"Quartiles:\")\n",
    "print(quartiles)\n",
    "print(\"Skewness:\", skewness)\n"
   ]
  },
  {
   "cell_type": "code",
   "execution_count": 85,
   "id": "a2b7cbfe",
   "metadata": {},
   "outputs": [
    {
     "ename": "AttributeError",
     "evalue": "'DataFrame' object has no attribute 'mad'",
     "output_type": "error",
     "traceback": [
      "\u001b[1;31m---------------------------------------------------------------------------\u001b[0m",
      "\u001b[1;31mAttributeError\u001b[0m                            Traceback (most recent call last)",
      "Cell \u001b[1;32mIn[85], line 1\u001b[0m\n\u001b[1;32m----> 1\u001b[0m df\u001b[38;5;241m.\u001b[39mmad()\n\u001b[0;32m      2\u001b[0m mad_values \u001b[38;5;241m=\u001b[39m df\u001b[38;5;241m.\u001b[39mapply(\u001b[38;5;28;01mlambda\u001b[39;00m x: x\u001b[38;5;241m.\u001b[39mmad(), axis\u001b[38;5;241m=\u001b[39m\u001b[38;5;241m0\u001b[39m)\n",
      "File \u001b[1;32m~\\AppData\\Roaming\\Python\\Python311\\site-packages\\pandas\\core\\generic.py:6299\u001b[0m, in \u001b[0;36mNDFrame.__getattr__\u001b[1;34m(self, name)\u001b[0m\n\u001b[0;32m   6292\u001b[0m \u001b[38;5;28;01mif\u001b[39;00m (\n\u001b[0;32m   6293\u001b[0m     name \u001b[38;5;129;01mnot\u001b[39;00m \u001b[38;5;129;01min\u001b[39;00m \u001b[38;5;28mself\u001b[39m\u001b[38;5;241m.\u001b[39m_internal_names_set\n\u001b[0;32m   6294\u001b[0m     \u001b[38;5;129;01mand\u001b[39;00m name \u001b[38;5;129;01mnot\u001b[39;00m \u001b[38;5;129;01min\u001b[39;00m \u001b[38;5;28mself\u001b[39m\u001b[38;5;241m.\u001b[39m_metadata\n\u001b[0;32m   6295\u001b[0m     \u001b[38;5;129;01mand\u001b[39;00m name \u001b[38;5;129;01mnot\u001b[39;00m \u001b[38;5;129;01min\u001b[39;00m \u001b[38;5;28mself\u001b[39m\u001b[38;5;241m.\u001b[39m_accessors\n\u001b[0;32m   6296\u001b[0m     \u001b[38;5;129;01mand\u001b[39;00m \u001b[38;5;28mself\u001b[39m\u001b[38;5;241m.\u001b[39m_info_axis\u001b[38;5;241m.\u001b[39m_can_hold_identifiers_and_holds_name(name)\n\u001b[0;32m   6297\u001b[0m ):\n\u001b[0;32m   6298\u001b[0m     \u001b[38;5;28;01mreturn\u001b[39;00m \u001b[38;5;28mself\u001b[39m[name]\n\u001b[1;32m-> 6299\u001b[0m \u001b[38;5;28;01mreturn\u001b[39;00m \u001b[38;5;28mobject\u001b[39m\u001b[38;5;241m.\u001b[39m\u001b[38;5;21m__getattribute__\u001b[39m(\u001b[38;5;28mself\u001b[39m, name)\n",
      "\u001b[1;31mAttributeError\u001b[0m: 'DataFrame' object has no attribute 'mad'"
     ]
    }
   ],
   "source": [
    "df.mad()\n",
    "mad_values = df.apply(lambda x: x.mad(), axis=0)\n"
   ]
  },
  {
   "cell_type": "markdown",
   "id": "9d901c03",
   "metadata": {},
   "source": [
    "# summary statistics of income grouped by age groups"
   ]
  },
  {
   "cell_type": "code",
   "execution_count": 76,
   "id": "dee1ccbe",
   "metadata": {},
   "outputs": [
    {
     "name": "stdout",
     "output_type": "stream",
     "text": [
      "\n",
      "Summary Statistics of Income Grouped by Age Groups:\n",
      "     min  max\n",
      "Age          \n",
      "18    33   65\n",
      "19    15   81\n",
      "20    16   73\n",
      "21    15   62\n",
      "22    17   57\n",
      "23    16   70\n",
      "24    20   60\n",
      "25    24   77\n",
      "26    54   62\n",
      "27    40   88\n",
      "28    76  101\n",
      "29    28   98\n",
      "30    19  137\n",
      "31    17   81\n",
      "32    48  137\n",
      "33    42  113\n",
      "34    58  103\n",
      "35    18  120\n",
      "36    37  103\n",
      "37    20   97\n",
      "38    54  113\n",
      "39    69   78\n",
      "40    29   87\n",
      "41    99  103\n",
      "42    34   86\n",
      "43    48   78\n",
      "44    73   78\n",
      "45    28  126\n",
      "46    25   98\n",
      "47    43  120\n",
      "48    39   77\n",
      "49    33   65\n",
      "50    40   85\n",
      "51    44   67\n",
      "52    23   88\n",
      "53    33   46\n",
      "54    28  101\n",
      "55    57   57\n",
      "56    79   79\n",
      "57    54   75\n",
      "58    20   88\n",
      "59    43   93\n",
      "60    30   50\n",
      "63    48   65\n",
      "64    19   19\n",
      "65    38   63\n",
      "66    63   63\n",
      "67    19   62\n",
      "68    48   63\n",
      "69    44   44\n",
      "70    46   49\n"
     ]
    }
   ],
   "source": [
    "# Group by age groups and calculate summary statistics of income\n",
    "age_groups_income_summary = df.groupby('Age')['Income'].agg(['min', 'max'])\n",
    "\n",
    "# Display summary statistics of income grouped by age groups\n",
    "print(\"\\nSummary Statistics of Income Grouped by Age Groups:\")\n",
    "print(age_groups_income_summary)"
   ]
  },
  {
   "cell_type": "code",
   "execution_count": 77,
   "id": "07ca483d",
   "metadata": {},
   "outputs": [],
   "source": [
    "income_summary = df.groupby('Age')['Income'].describe()"
   ]
  },
  {
   "cell_type": "code",
   "execution_count": 78,
   "id": "bdad702b",
   "metadata": {},
   "outputs": [
    {
     "data": {
      "text/html": [
       "<div>\n",
       "<style scoped>\n",
       "    .dataframe tbody tr th:only-of-type {\n",
       "        vertical-align: middle;\n",
       "    }\n",
       "\n",
       "    .dataframe tbody tr th {\n",
       "        vertical-align: top;\n",
       "    }\n",
       "\n",
       "    .dataframe thead th {\n",
       "        text-align: right;\n",
       "    }\n",
       "</style>\n",
       "<table border=\"1\" class=\"dataframe\">\n",
       "  <thead>\n",
       "    <tr style=\"text-align: right;\">\n",
       "      <th></th>\n",
       "      <th>count</th>\n",
       "      <th>mean</th>\n",
       "      <th>std</th>\n",
       "      <th>min</th>\n",
       "      <th>25%</th>\n",
       "      <th>50%</th>\n",
       "      <th>75%</th>\n",
       "      <th>max</th>\n",
       "    </tr>\n",
       "    <tr>\n",
       "      <th>Age</th>\n",
       "      <th></th>\n",
       "      <th></th>\n",
       "      <th></th>\n",
       "      <th></th>\n",
       "      <th></th>\n",
       "      <th></th>\n",
       "      <th></th>\n",
       "      <th></th>\n",
       "    </tr>\n",
       "  </thead>\n",
       "  <tbody>\n",
       "    <tr>\n",
       "      <th>18</th>\n",
       "      <td>4.0</td>\n",
       "      <td>51.250000</td>\n",
       "      <td>14.056434</td>\n",
       "      <td>33.0</td>\n",
       "      <td>44.25</td>\n",
       "      <td>53.5</td>\n",
       "      <td>60.50</td>\n",
       "      <td>65.0</td>\n",
       "    </tr>\n",
       "    <tr>\n",
       "      <th>19</th>\n",
       "      <td>8.0</td>\n",
       "      <td>57.000000</td>\n",
       "      <td>20.632845</td>\n",
       "      <td>15.0</td>\n",
       "      <td>47.50</td>\n",
       "      <td>63.5</td>\n",
       "      <td>67.25</td>\n",
       "      <td>81.0</td>\n",
       "    </tr>\n",
       "    <tr>\n",
       "      <th>20</th>\n",
       "      <td>5.0</td>\n",
       "      <td>41.600000</td>\n",
       "      <td>24.815318</td>\n",
       "      <td>16.0</td>\n",
       "      <td>21.00</td>\n",
       "      <td>37.0</td>\n",
       "      <td>61.00</td>\n",
       "      <td>73.0</td>\n",
       "    </tr>\n",
       "    <tr>\n",
       "      <th>21</th>\n",
       "      <td>5.0</td>\n",
       "      <td>38.800000</td>\n",
       "      <td>19.018412</td>\n",
       "      <td>15.0</td>\n",
       "      <td>30.00</td>\n",
       "      <td>33.0</td>\n",
       "      <td>54.00</td>\n",
       "      <td>62.0</td>\n",
       "    </tr>\n",
       "    <tr>\n",
       "      <th>22</th>\n",
       "      <td>3.0</td>\n",
       "      <td>31.333333</td>\n",
       "      <td>22.278540</td>\n",
       "      <td>17.0</td>\n",
       "      <td>18.50</td>\n",
       "      <td>20.0</td>\n",
       "      <td>38.50</td>\n",
       "      <td>57.0</td>\n",
       "    </tr>\n",
       "    <tr>\n",
       "      <th>23</th>\n",
       "      <td>6.0</td>\n",
       "      <td>41.500000</td>\n",
       "      <td>23.441416</td>\n",
       "      <td>16.0</td>\n",
       "      <td>20.75</td>\n",
       "      <td>41.5</td>\n",
       "      <td>60.00</td>\n",
       "      <td>70.0</td>\n",
       "    </tr>\n",
       "    <tr>\n",
       "      <th>24</th>\n",
       "      <td>4.0</td>\n",
       "      <td>39.250000</td>\n",
       "      <td>16.357975</td>\n",
       "      <td>20.0</td>\n",
       "      <td>33.50</td>\n",
       "      <td>38.5</td>\n",
       "      <td>44.25</td>\n",
       "      <td>60.0</td>\n",
       "    </tr>\n",
       "    <tr>\n",
       "      <th>25</th>\n",
       "      <td>3.0</td>\n",
       "      <td>57.666667</td>\n",
       "      <td>29.263174</td>\n",
       "      <td>24.0</td>\n",
       "      <td>48.00</td>\n",
       "      <td>72.0</td>\n",
       "      <td>74.50</td>\n",
       "      <td>77.0</td>\n",
       "    </tr>\n",
       "    <tr>\n",
       "      <th>26</th>\n",
       "      <td>2.0</td>\n",
       "      <td>58.000000</td>\n",
       "      <td>5.656854</td>\n",
       "      <td>54.0</td>\n",
       "      <td>56.00</td>\n",
       "      <td>58.0</td>\n",
       "      <td>60.00</td>\n",
       "      <td>62.0</td>\n",
       "    </tr>\n",
       "    <tr>\n",
       "      <th>27</th>\n",
       "      <td>6.0</td>\n",
       "      <td>63.166667</td>\n",
       "      <td>18.400181</td>\n",
       "      <td>40.0</td>\n",
       "      <td>49.50</td>\n",
       "      <td>63.5</td>\n",
       "      <td>75.25</td>\n",
       "      <td>88.0</td>\n",
       "    </tr>\n",
       "    <tr>\n",
       "      <th>28</th>\n",
       "      <td>4.0</td>\n",
       "      <td>85.250000</td>\n",
       "      <td>11.615363</td>\n",
       "      <td>76.0</td>\n",
       "      <td>76.75</td>\n",
       "      <td>82.0</td>\n",
       "      <td>90.50</td>\n",
       "      <td>101.0</td>\n",
       "    </tr>\n",
       "    <tr>\n",
       "      <th>29</th>\n",
       "      <td>5.0</td>\n",
       "      <td>63.600000</td>\n",
       "      <td>28.866936</td>\n",
       "      <td>28.0</td>\n",
       "      <td>40.00</td>\n",
       "      <td>73.0</td>\n",
       "      <td>79.00</td>\n",
       "      <td>98.0</td>\n",
       "    </tr>\n",
       "    <tr>\n",
       "      <th>30</th>\n",
       "      <td>7.0</td>\n",
       "      <td>76.142857</td>\n",
       "      <td>39.612408</td>\n",
       "      <td>19.0</td>\n",
       "      <td>56.00</td>\n",
       "      <td>78.0</td>\n",
       "      <td>93.50</td>\n",
       "      <td>137.0</td>\n",
       "    </tr>\n",
       "    <tr>\n",
       "      <th>31</th>\n",
       "      <td>8.0</td>\n",
       "      <td>48.375000</td>\n",
       "      <td>23.323425</td>\n",
       "      <td>17.0</td>\n",
       "      <td>35.50</td>\n",
       "      <td>41.5</td>\n",
       "      <td>70.50</td>\n",
       "      <td>81.0</td>\n",
       "    </tr>\n",
       "    <tr>\n",
       "      <th>32</th>\n",
       "      <td>11.0</td>\n",
       "      <td>87.181818</td>\n",
       "      <td>26.809768</td>\n",
       "      <td>48.0</td>\n",
       "      <td>74.00</td>\n",
       "      <td>77.0</td>\n",
       "      <td>100.00</td>\n",
       "      <td>137.0</td>\n",
       "    </tr>\n",
       "    <tr>\n",
       "      <th>33</th>\n",
       "      <td>3.0</td>\n",
       "      <td>80.333333</td>\n",
       "      <td>35.837597</td>\n",
       "      <td>42.0</td>\n",
       "      <td>64.00</td>\n",
       "      <td>86.0</td>\n",
       "      <td>99.50</td>\n",
       "      <td>113.0</td>\n",
       "    </tr>\n",
       "    <tr>\n",
       "      <th>34</th>\n",
       "      <td>5.0</td>\n",
       "      <td>79.000000</td>\n",
       "      <td>15.968719</td>\n",
       "      <td>58.0</td>\n",
       "      <td>78.00</td>\n",
       "      <td>78.0</td>\n",
       "      <td>78.00</td>\n",
       "      <td>103.0</td>\n",
       "    </tr>\n",
       "    <tr>\n",
       "      <th>35</th>\n",
       "      <td>9.0</td>\n",
       "      <td>46.666667</td>\n",
       "      <td>38.632888</td>\n",
       "      <td>18.0</td>\n",
       "      <td>21.00</td>\n",
       "      <td>24.0</td>\n",
       "      <td>74.00</td>\n",
       "      <td>120.0</td>\n",
       "    </tr>\n",
       "    <tr>\n",
       "      <th>36</th>\n",
       "      <td>6.0</td>\n",
       "      <td>81.000000</td>\n",
       "      <td>22.556595</td>\n",
       "      <td>37.0</td>\n",
       "      <td>85.50</td>\n",
       "      <td>87.0</td>\n",
       "      <td>87.00</td>\n",
       "      <td>103.0</td>\n",
       "    </tr>\n",
       "    <tr>\n",
       "      <th>37</th>\n",
       "      <td>3.0</td>\n",
       "      <td>65.000000</td>\n",
       "      <td>40.112342</td>\n",
       "      <td>20.0</td>\n",
       "      <td>49.00</td>\n",
       "      <td>78.0</td>\n",
       "      <td>87.50</td>\n",
       "      <td>97.0</td>\n",
       "    </tr>\n",
       "    <tr>\n",
       "      <th>38</th>\n",
       "      <td>6.0</td>\n",
       "      <td>74.500000</td>\n",
       "      <td>20.462160</td>\n",
       "      <td>54.0</td>\n",
       "      <td>64.75</td>\n",
       "      <td>69.0</td>\n",
       "      <td>76.25</td>\n",
       "      <td>113.0</td>\n",
       "    </tr>\n",
       "    <tr>\n",
       "      <th>39</th>\n",
       "      <td>3.0</td>\n",
       "      <td>72.666667</td>\n",
       "      <td>4.725816</td>\n",
       "      <td>69.0</td>\n",
       "      <td>70.00</td>\n",
       "      <td>71.0</td>\n",
       "      <td>74.50</td>\n",
       "      <td>78.0</td>\n",
       "    </tr>\n",
       "    <tr>\n",
       "      <th>40</th>\n",
       "      <td>6.0</td>\n",
       "      <td>61.666667</td>\n",
       "      <td>19.551641</td>\n",
       "      <td>29.0</td>\n",
       "      <td>55.50</td>\n",
       "      <td>64.5</td>\n",
       "      <td>70.50</td>\n",
       "      <td>87.0</td>\n",
       "    </tr>\n",
       "    <tr>\n",
       "      <th>41</th>\n",
       "      <td>2.0</td>\n",
       "      <td>101.000000</td>\n",
       "      <td>2.828427</td>\n",
       "      <td>99.0</td>\n",
       "      <td>100.00</td>\n",
       "      <td>101.0</td>\n",
       "      <td>102.00</td>\n",
       "      <td>103.0</td>\n",
       "    </tr>\n",
       "    <tr>\n",
       "      <th>42</th>\n",
       "      <td>2.0</td>\n",
       "      <td>60.000000</td>\n",
       "      <td>36.769553</td>\n",
       "      <td>34.0</td>\n",
       "      <td>47.00</td>\n",
       "      <td>60.0</td>\n",
       "      <td>73.00</td>\n",
       "      <td>86.0</td>\n",
       "    </tr>\n",
       "    <tr>\n",
       "      <th>43</th>\n",
       "      <td>3.0</td>\n",
       "      <td>65.666667</td>\n",
       "      <td>15.695010</td>\n",
       "      <td>48.0</td>\n",
       "      <td>59.50</td>\n",
       "      <td>71.0</td>\n",
       "      <td>74.50</td>\n",
       "      <td>78.0</td>\n",
       "    </tr>\n",
       "    <tr>\n",
       "      <th>44</th>\n",
       "      <td>2.0</td>\n",
       "      <td>75.500000</td>\n",
       "      <td>3.535534</td>\n",
       "      <td>73.0</td>\n",
       "      <td>74.25</td>\n",
       "      <td>75.5</td>\n",
       "      <td>76.75</td>\n",
       "      <td>78.0</td>\n",
       "    </tr>\n",
       "    <tr>\n",
       "      <th>45</th>\n",
       "      <td>3.0</td>\n",
       "      <td>69.333333</td>\n",
       "      <td>50.767444</td>\n",
       "      <td>28.0</td>\n",
       "      <td>41.00</td>\n",
       "      <td>54.0</td>\n",
       "      <td>90.00</td>\n",
       "      <td>126.0</td>\n",
       "    </tr>\n",
       "    <tr>\n",
       "      <th>46</th>\n",
       "      <td>3.0</td>\n",
       "      <td>59.000000</td>\n",
       "      <td>36.755952</td>\n",
       "      <td>25.0</td>\n",
       "      <td>39.50</td>\n",
       "      <td>54.0</td>\n",
       "      <td>76.00</td>\n",
       "      <td>98.0</td>\n",
       "    </tr>\n",
       "    <tr>\n",
       "      <th>47</th>\n",
       "      <td>6.0</td>\n",
       "      <td>70.166667</td>\n",
       "      <td>27.694163</td>\n",
       "      <td>43.0</td>\n",
       "      <td>51.75</td>\n",
       "      <td>65.5</td>\n",
       "      <td>76.25</td>\n",
       "      <td>120.0</td>\n",
       "    </tr>\n",
       "    <tr>\n",
       "      <th>48</th>\n",
       "      <td>5.0</td>\n",
       "      <td>58.200000</td>\n",
       "      <td>13.700365</td>\n",
       "      <td>39.0</td>\n",
       "      <td>54.00</td>\n",
       "      <td>60.0</td>\n",
       "      <td>61.00</td>\n",
       "      <td>77.0</td>\n",
       "    </tr>\n",
       "    <tr>\n",
       "      <th>49</th>\n",
       "      <td>7.0</td>\n",
       "      <td>51.000000</td>\n",
       "      <td>12.884099</td>\n",
       "      <td>33.0</td>\n",
       "      <td>40.50</td>\n",
       "      <td>54.0</td>\n",
       "      <td>62.00</td>\n",
       "      <td>65.0</td>\n",
       "    </tr>\n",
       "    <tr>\n",
       "      <th>50</th>\n",
       "      <td>5.0</td>\n",
       "      <td>58.600000</td>\n",
       "      <td>18.420098</td>\n",
       "      <td>40.0</td>\n",
       "      <td>43.00</td>\n",
       "      <td>58.0</td>\n",
       "      <td>67.00</td>\n",
       "      <td>85.0</td>\n",
       "    </tr>\n",
       "    <tr>\n",
       "      <th>51</th>\n",
       "      <td>2.0</td>\n",
       "      <td>55.500000</td>\n",
       "      <td>16.263456</td>\n",
       "      <td>44.0</td>\n",
       "      <td>49.75</td>\n",
       "      <td>55.5</td>\n",
       "      <td>61.25</td>\n",
       "      <td>67.0</td>\n",
       "    </tr>\n",
       "    <tr>\n",
       "      <th>52</th>\n",
       "      <td>2.0</td>\n",
       "      <td>55.500000</td>\n",
       "      <td>45.961941</td>\n",
       "      <td>23.0</td>\n",
       "      <td>39.25</td>\n",
       "      <td>55.5</td>\n",
       "      <td>71.75</td>\n",
       "      <td>88.0</td>\n",
       "    </tr>\n",
       "    <tr>\n",
       "      <th>53</th>\n",
       "      <td>2.0</td>\n",
       "      <td>39.500000</td>\n",
       "      <td>9.192388</td>\n",
       "      <td>33.0</td>\n",
       "      <td>36.25</td>\n",
       "      <td>39.5</td>\n",
       "      <td>42.75</td>\n",
       "      <td>46.0</td>\n",
       "    </tr>\n",
       "    <tr>\n",
       "      <th>54</th>\n",
       "      <td>4.0</td>\n",
       "      <td>59.750000</td>\n",
       "      <td>30.998656</td>\n",
       "      <td>28.0</td>\n",
       "      <td>42.25</td>\n",
       "      <td>55.0</td>\n",
       "      <td>72.50</td>\n",
       "      <td>101.0</td>\n",
       "    </tr>\n",
       "    <tr>\n",
       "      <th>55</th>\n",
       "      <td>1.0</td>\n",
       "      <td>57.000000</td>\n",
       "      <td>NaN</td>\n",
       "      <td>57.0</td>\n",
       "      <td>57.00</td>\n",
       "      <td>57.0</td>\n",
       "      <td>57.00</td>\n",
       "      <td>57.0</td>\n",
       "    </tr>\n",
       "    <tr>\n",
       "      <th>56</th>\n",
       "      <td>1.0</td>\n",
       "      <td>79.000000</td>\n",
       "      <td>NaN</td>\n",
       "      <td>79.0</td>\n",
       "      <td>79.00</td>\n",
       "      <td>79.0</td>\n",
       "      <td>79.00</td>\n",
       "      <td>79.0</td>\n",
       "    </tr>\n",
       "    <tr>\n",
       "      <th>57</th>\n",
       "      <td>2.0</td>\n",
       "      <td>64.500000</td>\n",
       "      <td>14.849242</td>\n",
       "      <td>54.0</td>\n",
       "      <td>59.25</td>\n",
       "      <td>64.5</td>\n",
       "      <td>69.75</td>\n",
       "      <td>75.0</td>\n",
       "    </tr>\n",
       "    <tr>\n",
       "      <th>58</th>\n",
       "      <td>2.0</td>\n",
       "      <td>54.000000</td>\n",
       "      <td>48.083261</td>\n",
       "      <td>20.0</td>\n",
       "      <td>37.00</td>\n",
       "      <td>54.0</td>\n",
       "      <td>71.00</td>\n",
       "      <td>88.0</td>\n",
       "    </tr>\n",
       "    <tr>\n",
       "      <th>59</th>\n",
       "      <td>4.0</td>\n",
       "      <td>65.250000</td>\n",
       "      <td>21.792583</td>\n",
       "      <td>43.0</td>\n",
       "      <td>51.25</td>\n",
       "      <td>62.5</td>\n",
       "      <td>76.50</td>\n",
       "      <td>93.0</td>\n",
       "    </tr>\n",
       "    <tr>\n",
       "      <th>60</th>\n",
       "      <td>3.0</td>\n",
       "      <td>43.333333</td>\n",
       "      <td>11.547005</td>\n",
       "      <td>30.0</td>\n",
       "      <td>40.00</td>\n",
       "      <td>50.0</td>\n",
       "      <td>50.00</td>\n",
       "      <td>50.0</td>\n",
       "    </tr>\n",
       "    <tr>\n",
       "      <th>63</th>\n",
       "      <td>2.0</td>\n",
       "      <td>56.500000</td>\n",
       "      <td>12.020815</td>\n",
       "      <td>48.0</td>\n",
       "      <td>52.25</td>\n",
       "      <td>56.5</td>\n",
       "      <td>60.75</td>\n",
       "      <td>65.0</td>\n",
       "    </tr>\n",
       "    <tr>\n",
       "      <th>64</th>\n",
       "      <td>1.0</td>\n",
       "      <td>19.000000</td>\n",
       "      <td>NaN</td>\n",
       "      <td>19.0</td>\n",
       "      <td>19.00</td>\n",
       "      <td>19.0</td>\n",
       "      <td>19.00</td>\n",
       "      <td>19.0</td>\n",
       "    </tr>\n",
       "    <tr>\n",
       "      <th>65</th>\n",
       "      <td>2.0</td>\n",
       "      <td>50.500000</td>\n",
       "      <td>17.677670</td>\n",
       "      <td>38.0</td>\n",
       "      <td>44.25</td>\n",
       "      <td>50.5</td>\n",
       "      <td>56.75</td>\n",
       "      <td>63.0</td>\n",
       "    </tr>\n",
       "    <tr>\n",
       "      <th>66</th>\n",
       "      <td>2.0</td>\n",
       "      <td>63.000000</td>\n",
       "      <td>0.000000</td>\n",
       "      <td>63.0</td>\n",
       "      <td>63.00</td>\n",
       "      <td>63.0</td>\n",
       "      <td>63.00</td>\n",
       "      <td>63.0</td>\n",
       "    </tr>\n",
       "    <tr>\n",
       "      <th>67</th>\n",
       "      <td>4.0</td>\n",
       "      <td>45.500000</td>\n",
       "      <td>18.699376</td>\n",
       "      <td>19.0</td>\n",
       "      <td>40.00</td>\n",
       "      <td>50.5</td>\n",
       "      <td>56.00</td>\n",
       "      <td>62.0</td>\n",
       "    </tr>\n",
       "    <tr>\n",
       "      <th>68</th>\n",
       "      <td>3.0</td>\n",
       "      <td>56.666667</td>\n",
       "      <td>7.767453</td>\n",
       "      <td>48.0</td>\n",
       "      <td>53.50</td>\n",
       "      <td>59.0</td>\n",
       "      <td>61.00</td>\n",
       "      <td>63.0</td>\n",
       "    </tr>\n",
       "    <tr>\n",
       "      <th>69</th>\n",
       "      <td>1.0</td>\n",
       "      <td>44.000000</td>\n",
       "      <td>NaN</td>\n",
       "      <td>44.0</td>\n",
       "      <td>44.00</td>\n",
       "      <td>44.0</td>\n",
       "      <td>44.00</td>\n",
       "      <td>44.0</td>\n",
       "    </tr>\n",
       "    <tr>\n",
       "      <th>70</th>\n",
       "      <td>2.0</td>\n",
       "      <td>47.500000</td>\n",
       "      <td>2.121320</td>\n",
       "      <td>46.0</td>\n",
       "      <td>46.75</td>\n",
       "      <td>47.5</td>\n",
       "      <td>48.25</td>\n",
       "      <td>49.0</td>\n",
       "    </tr>\n",
       "  </tbody>\n",
       "</table>\n",
       "</div>"
      ],
      "text/plain": [
       "     count        mean        std   min     25%    50%     75%    max\n",
       "Age                                                                  \n",
       "18     4.0   51.250000  14.056434  33.0   44.25   53.5   60.50   65.0\n",
       "19     8.0   57.000000  20.632845  15.0   47.50   63.5   67.25   81.0\n",
       "20     5.0   41.600000  24.815318  16.0   21.00   37.0   61.00   73.0\n",
       "21     5.0   38.800000  19.018412  15.0   30.00   33.0   54.00   62.0\n",
       "22     3.0   31.333333  22.278540  17.0   18.50   20.0   38.50   57.0\n",
       "23     6.0   41.500000  23.441416  16.0   20.75   41.5   60.00   70.0\n",
       "24     4.0   39.250000  16.357975  20.0   33.50   38.5   44.25   60.0\n",
       "25     3.0   57.666667  29.263174  24.0   48.00   72.0   74.50   77.0\n",
       "26     2.0   58.000000   5.656854  54.0   56.00   58.0   60.00   62.0\n",
       "27     6.0   63.166667  18.400181  40.0   49.50   63.5   75.25   88.0\n",
       "28     4.0   85.250000  11.615363  76.0   76.75   82.0   90.50  101.0\n",
       "29     5.0   63.600000  28.866936  28.0   40.00   73.0   79.00   98.0\n",
       "30     7.0   76.142857  39.612408  19.0   56.00   78.0   93.50  137.0\n",
       "31     8.0   48.375000  23.323425  17.0   35.50   41.5   70.50   81.0\n",
       "32    11.0   87.181818  26.809768  48.0   74.00   77.0  100.00  137.0\n",
       "33     3.0   80.333333  35.837597  42.0   64.00   86.0   99.50  113.0\n",
       "34     5.0   79.000000  15.968719  58.0   78.00   78.0   78.00  103.0\n",
       "35     9.0   46.666667  38.632888  18.0   21.00   24.0   74.00  120.0\n",
       "36     6.0   81.000000  22.556595  37.0   85.50   87.0   87.00  103.0\n",
       "37     3.0   65.000000  40.112342  20.0   49.00   78.0   87.50   97.0\n",
       "38     6.0   74.500000  20.462160  54.0   64.75   69.0   76.25  113.0\n",
       "39     3.0   72.666667   4.725816  69.0   70.00   71.0   74.50   78.0\n",
       "40     6.0   61.666667  19.551641  29.0   55.50   64.5   70.50   87.0\n",
       "41     2.0  101.000000   2.828427  99.0  100.00  101.0  102.00  103.0\n",
       "42     2.0   60.000000  36.769553  34.0   47.00   60.0   73.00   86.0\n",
       "43     3.0   65.666667  15.695010  48.0   59.50   71.0   74.50   78.0\n",
       "44     2.0   75.500000   3.535534  73.0   74.25   75.5   76.75   78.0\n",
       "45     3.0   69.333333  50.767444  28.0   41.00   54.0   90.00  126.0\n",
       "46     3.0   59.000000  36.755952  25.0   39.50   54.0   76.00   98.0\n",
       "47     6.0   70.166667  27.694163  43.0   51.75   65.5   76.25  120.0\n",
       "48     5.0   58.200000  13.700365  39.0   54.00   60.0   61.00   77.0\n",
       "49     7.0   51.000000  12.884099  33.0   40.50   54.0   62.00   65.0\n",
       "50     5.0   58.600000  18.420098  40.0   43.00   58.0   67.00   85.0\n",
       "51     2.0   55.500000  16.263456  44.0   49.75   55.5   61.25   67.0\n",
       "52     2.0   55.500000  45.961941  23.0   39.25   55.5   71.75   88.0\n",
       "53     2.0   39.500000   9.192388  33.0   36.25   39.5   42.75   46.0\n",
       "54     4.0   59.750000  30.998656  28.0   42.25   55.0   72.50  101.0\n",
       "55     1.0   57.000000        NaN  57.0   57.00   57.0   57.00   57.0\n",
       "56     1.0   79.000000        NaN  79.0   79.00   79.0   79.00   79.0\n",
       "57     2.0   64.500000  14.849242  54.0   59.25   64.5   69.75   75.0\n",
       "58     2.0   54.000000  48.083261  20.0   37.00   54.0   71.00   88.0\n",
       "59     4.0   65.250000  21.792583  43.0   51.25   62.5   76.50   93.0\n",
       "60     3.0   43.333333  11.547005  30.0   40.00   50.0   50.00   50.0\n",
       "63     2.0   56.500000  12.020815  48.0   52.25   56.5   60.75   65.0\n",
       "64     1.0   19.000000        NaN  19.0   19.00   19.0   19.00   19.0\n",
       "65     2.0   50.500000  17.677670  38.0   44.25   50.5   56.75   63.0\n",
       "66     2.0   63.000000   0.000000  63.0   63.00   63.0   63.00   63.0\n",
       "67     4.0   45.500000  18.699376  19.0   40.00   50.5   56.00   62.0\n",
       "68     3.0   56.666667   7.767453  48.0   53.50   59.0   61.00   63.0\n",
       "69     1.0   44.000000        NaN  44.0   44.00   44.0   44.00   44.0\n",
       "70     2.0   47.500000   2.121320  46.0   46.75   47.5   48.25   49.0"
      ]
     },
     "execution_count": 78,
     "metadata": {},
     "output_type": "execute_result"
    }
   ],
   "source": [
    "income_summary"
   ]
  },
  {
   "cell_type": "code",
   "execution_count": null,
   "id": "f81a4053",
   "metadata": {},
   "outputs": [],
   "source": []
  }
 ],
 "metadata": {
  "kernelspec": {
   "display_name": "Python 3 (ipykernel)",
   "language": "python",
   "name": "python3"
  },
  "language_info": {
   "codemirror_mode": {
    "name": "ipython",
    "version": 3
   },
   "file_extension": ".py",
   "mimetype": "text/x-python",
   "name": "python",
   "nbconvert_exporter": "python",
   "pygments_lexer": "ipython3",
   "version": "3.11.3"
  }
 },
 "nbformat": 4,
 "nbformat_minor": 5
}
