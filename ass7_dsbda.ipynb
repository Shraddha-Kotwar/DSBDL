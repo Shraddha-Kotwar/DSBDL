{
 "cells": [
  {
   "cell_type": "markdown",
   "id": "886abee3",
   "metadata": {},
   "source": [
    "# Problem Statement\n",
    "\n",
    "1.Extract Sample document and apply following document preprocessing methods:\n",
    "    \n",
    "Tokenization, POS Tagging, stop words removal, Stemming and Lemmatization.\n",
    "\n",
    "2. Create representation of document by calculating Term Frequency and Inverse Document\n",
    "Frequency."
   ]
  },
  {
   "cell_type": "markdown",
   "id": "d4981ea7",
   "metadata": {},
   "source": [
    "# Download the required packages"
   ]
  },
  {
   "cell_type": "code",
   "execution_count": 2,
   "id": "fb9755a4",
   "metadata": {},
   "outputs": [
    {
     "name": "stderr",
     "output_type": "stream",
     "text": [
      "[nltk_data] Downloading package punkt to\n",
      "[nltk_data]     C:\\Users\\OM\\AppData\\Roaming\\nltk_data...\n",
      "[nltk_data]   Unzipping tokenizers\\punkt.zip.\n",
      "[nltk_data] Downloading package stopwords to\n",
      "[nltk_data]     C:\\Users\\OM\\AppData\\Roaming\\nltk_data...\n",
      "[nltk_data]   Unzipping corpora\\stopwords.zip.\n",
      "[nltk_data] Downloading package wordnet to\n",
      "[nltk_data]     C:\\Users\\OM\\AppData\\Roaming\\nltk_data...\n",
      "[nltk_data] Downloading package averaged_perceptron_tagger to\n",
      "[nltk_data]     C:\\Users\\OM\\AppData\\Roaming\\nltk_data...\n",
      "[nltk_data]   Unzipping taggers\\averaged_perceptron_tagger.zip.\n"
     ]
    },
    {
     "data": {
      "text/plain": [
       "True"
      ]
     },
     "execution_count": 2,
     "metadata": {},
     "output_type": "execute_result"
    }
   ],
   "source": [
    "import nltk\n",
    "nltk.download('punkt')\n",
    "nltk.download('stopwords')\n",
    "nltk.download('wordnet')\n",
    "nltk.download('averaged_perceptron_tagger')"
   ]
  },
  {
   "cell_type": "markdown",
   "id": "3574bf00",
   "metadata": {},
   "source": [
    "# Initialize the text"
   ]
  },
  {
   "cell_type": "code",
   "execution_count": 4,
   "id": "d4bfc2c0",
   "metadata": {},
   "outputs": [
    {
     "data": {
      "text/plain": [
       "['Tokenization is the first step in text analytics.',\n",
       " 'The process of breaking down a text paragraph into smaller chunks such as words or sentences is called Tokenization.']"
      ]
     },
     "execution_count": 4,
     "metadata": {},
     "output_type": "execute_result"
    }
   ],
   "source": [
    "text=\"Tokenization is the first step in text analytics. The process of breaking down a text paragraph into smaller chunks such as words or sentences is called Tokenization.\"\n",
    "\n",
    "# Sentence tokenization\n",
    "from nltk.tokenize import sent_tokenize\n",
    "tokenized_text=sent_tokenize(text)\n",
    "tokenized_text"
   ]
  },
  {
   "cell_type": "markdown",
   "id": "98b8b2e3",
   "metadata": {},
   "source": [
    "# Perform Tokenization"
   ]
  },
  {
   "cell_type": "code",
   "execution_count": 5,
   "id": "a13de6eb",
   "metadata": {},
   "outputs": [
    {
     "data": {
      "text/plain": [
       "['Tokenization',\n",
       " 'is',\n",
       " 'the',\n",
       " 'first',\n",
       " 'step',\n",
       " 'in',\n",
       " 'text',\n",
       " 'analytics',\n",
       " '.',\n",
       " 'The',\n",
       " 'process',\n",
       " 'of',\n",
       " 'breaking',\n",
       " 'down',\n",
       " 'a',\n",
       " 'text',\n",
       " 'paragraph',\n",
       " 'into',\n",
       " 'smaller',\n",
       " 'chunks',\n",
       " 'such',\n",
       " 'as',\n",
       " 'words',\n",
       " 'or',\n",
       " 'sentences',\n",
       " 'is',\n",
       " 'called',\n",
       " 'Tokenization',\n",
       " '.']"
      ]
     },
     "execution_count": 5,
     "metadata": {},
     "output_type": "execute_result"
    }
   ],
   "source": [
    "# word tokenization\n",
    "\n",
    "from nltk.tokenize import word_tokenize\n",
    "tokenized_word=word_tokenize(text)\n",
    "tokenized_word"
   ]
  },
  {
   "cell_type": "markdown",
   "id": "cad0e872",
   "metadata": {},
   "source": [
    "# Removing Punctuations and Stop Word"
   ]
  },
  {
   "cell_type": "code",
   "execution_count": 6,
   "id": "f0f0c9ba",
   "metadata": {},
   "outputs": [],
   "source": [
    "from nltk.corpus import stopwords\n",
    "stop_words=set(stopwords.words(\"english\"))"
   ]
  },
  {
   "cell_type": "code",
   "execution_count": 7,
   "id": "10a057be",
   "metadata": {},
   "outputs": [
    {
     "data": {
      "text/plain": [
       "{'a',\n",
       " 'about',\n",
       " 'above',\n",
       " 'after',\n",
       " 'again',\n",
       " 'against',\n",
       " 'ain',\n",
       " 'all',\n",
       " 'am',\n",
       " 'an',\n",
       " 'and',\n",
       " 'any',\n",
       " 'are',\n",
       " 'aren',\n",
       " \"aren't\",\n",
       " 'as',\n",
       " 'at',\n",
       " 'be',\n",
       " 'because',\n",
       " 'been',\n",
       " 'before',\n",
       " 'being',\n",
       " 'below',\n",
       " 'between',\n",
       " 'both',\n",
       " 'but',\n",
       " 'by',\n",
       " 'can',\n",
       " 'couldn',\n",
       " \"couldn't\",\n",
       " 'd',\n",
       " 'did',\n",
       " 'didn',\n",
       " \"didn't\",\n",
       " 'do',\n",
       " 'does',\n",
       " 'doesn',\n",
       " \"doesn't\",\n",
       " 'doing',\n",
       " 'don',\n",
       " \"don't\",\n",
       " 'down',\n",
       " 'during',\n",
       " 'each',\n",
       " 'few',\n",
       " 'for',\n",
       " 'from',\n",
       " 'further',\n",
       " 'had',\n",
       " 'hadn',\n",
       " \"hadn't\",\n",
       " 'has',\n",
       " 'hasn',\n",
       " \"hasn't\",\n",
       " 'have',\n",
       " 'haven',\n",
       " \"haven't\",\n",
       " 'having',\n",
       " 'he',\n",
       " 'her',\n",
       " 'here',\n",
       " 'hers',\n",
       " 'herself',\n",
       " 'him',\n",
       " 'himself',\n",
       " 'his',\n",
       " 'how',\n",
       " 'i',\n",
       " 'if',\n",
       " 'in',\n",
       " 'into',\n",
       " 'is',\n",
       " 'isn',\n",
       " \"isn't\",\n",
       " 'it',\n",
       " \"it's\",\n",
       " 'its',\n",
       " 'itself',\n",
       " 'just',\n",
       " 'll',\n",
       " 'm',\n",
       " 'ma',\n",
       " 'me',\n",
       " 'mightn',\n",
       " \"mightn't\",\n",
       " 'more',\n",
       " 'most',\n",
       " 'mustn',\n",
       " \"mustn't\",\n",
       " 'my',\n",
       " 'myself',\n",
       " 'needn',\n",
       " \"needn't\",\n",
       " 'no',\n",
       " 'nor',\n",
       " 'not',\n",
       " 'now',\n",
       " 'o',\n",
       " 'of',\n",
       " 'off',\n",
       " 'on',\n",
       " 'once',\n",
       " 'only',\n",
       " 'or',\n",
       " 'other',\n",
       " 'our',\n",
       " 'ours',\n",
       " 'ourselves',\n",
       " 'out',\n",
       " 'over',\n",
       " 'own',\n",
       " 're',\n",
       " 's',\n",
       " 'same',\n",
       " 'shan',\n",
       " \"shan't\",\n",
       " 'she',\n",
       " \"she's\",\n",
       " 'should',\n",
       " \"should've\",\n",
       " 'shouldn',\n",
       " \"shouldn't\",\n",
       " 'so',\n",
       " 'some',\n",
       " 'such',\n",
       " 't',\n",
       " 'than',\n",
       " 'that',\n",
       " \"that'll\",\n",
       " 'the',\n",
       " 'their',\n",
       " 'theirs',\n",
       " 'them',\n",
       " 'themselves',\n",
       " 'then',\n",
       " 'there',\n",
       " 'these',\n",
       " 'they',\n",
       " 'this',\n",
       " 'those',\n",
       " 'through',\n",
       " 'to',\n",
       " 'too',\n",
       " 'under',\n",
       " 'until',\n",
       " 'up',\n",
       " 've',\n",
       " 'very',\n",
       " 'was',\n",
       " 'wasn',\n",
       " \"wasn't\",\n",
       " 'we',\n",
       " 'were',\n",
       " 'weren',\n",
       " \"weren't\",\n",
       " 'what',\n",
       " 'when',\n",
       " 'where',\n",
       " 'which',\n",
       " 'while',\n",
       " 'who',\n",
       " 'whom',\n",
       " 'why',\n",
       " 'will',\n",
       " 'with',\n",
       " 'won',\n",
       " \"won't\",\n",
       " 'wouldn',\n",
       " \"wouldn't\",\n",
       " 'y',\n",
       " 'you',\n",
       " \"you'd\",\n",
       " \"you'll\",\n",
       " \"you're\",\n",
       " \"you've\",\n",
       " 'your',\n",
       " 'yours',\n",
       " 'yourself',\n",
       " 'yourselves'}"
      ]
     },
     "execution_count": 7,
     "metadata": {},
     "output_type": "execute_result"
    }
   ],
   "source": [
    "stop_words"
   ]
  },
  {
   "cell_type": "code",
   "execution_count": 10,
   "id": "b80de2ea",
   "metadata": {},
   "outputs": [],
   "source": [
    "text= \"How to remove stopwords with nltk library in Python?\"\n",
    "import re\n",
    "text=re.sub('[^a-zA-Z]',' ',text)"
   ]
  },
  {
   "cell_type": "code",
   "execution_count": 11,
   "id": "5f22a1b5",
   "metadata": {},
   "outputs": [
    {
     "data": {
      "text/plain": [
       "'How to remove stopwords with nltk library in Python '"
      ]
     },
     "execution_count": 11,
     "metadata": {},
     "output_type": "execute_result"
    }
   ],
   "source": [
    "text"
   ]
  },
  {
   "cell_type": "code",
   "execution_count": 12,
   "id": "25c44709",
   "metadata": {},
   "outputs": [
    {
     "data": {
      "text/plain": [
       "['how', 'to', 'remove', 'stopwords', 'with', 'nltk', 'library', 'in', 'python']"
      ]
     },
     "execution_count": 12,
     "metadata": {},
     "output_type": "execute_result"
    }
   ],
   "source": [
    "tokens=word_tokenize(text.lower())\n",
    "tokens"
   ]
  },
  {
   "cell_type": "code",
   "execution_count": 15,
   "id": "471b7aad",
   "metadata": {},
   "outputs": [],
   "source": [
    "filtered_text=[]\n",
    "for w in tokens:\n",
    "    if w not in stop_words:\n",
    "        filtered_text.append(w)"
   ]
  },
  {
   "cell_type": "code",
   "execution_count": 16,
   "id": "34280709",
   "metadata": {},
   "outputs": [
    {
     "data": {
      "text/plain": [
       "['remove', 'stopwords', 'nltk', 'library', 'python']"
      ]
     },
     "execution_count": 16,
     "metadata": {},
     "output_type": "execute_result"
    }
   ],
   "source": [
    "filtered_text"
   ]
  },
  {
   "cell_type": "markdown",
   "id": "e0fe7b4b",
   "metadata": {},
   "source": [
    "# Stemming"
   ]
  },
  {
   "cell_type": "code",
   "execution_count": 18,
   "id": "ba9119db",
   "metadata": {},
   "outputs": [
    {
     "name": "stdout",
     "output_type": "stream",
     "text": [
      "wait\n",
      "wait\n",
      "wait\n",
      "wait\n"
     ]
    }
   ],
   "source": [
    "from nltk.stem import PorterStemmer\n",
    "e_words=['wait','waiting','waited','waits']\n",
    "ps=PorterStemmer()\n",
    "for w in e_words:\n",
    "    rootwords=ps.stem(w)\n",
    "    print(rootwords)"
   ]
  },
  {
   "cell_type": "markdown",
   "id": "3f834b66",
   "metadata": {},
   "source": [
    "# Lemmanization"
   ]
  },
  {
   "cell_type": "code",
   "execution_count": 20,
   "id": "e2bb329a",
   "metadata": {},
   "outputs": [
    {
     "name": "stderr",
     "output_type": "stream",
     "text": [
      "[nltk_data] Downloading package omw-1.4 to\n",
      "[nltk_data]     C:\\Users\\OM\\AppData\\Roaming\\nltk_data...\n"
     ]
    },
    {
     "data": {
      "text/plain": [
       "True"
      ]
     },
     "execution_count": 20,
     "metadata": {},
     "output_type": "execute_result"
    }
   ],
   "source": [
    "import nltk\n",
    "nltk.download('omw-1.4')"
   ]
  },
  {
   "cell_type": "code",
   "execution_count": 21,
   "id": "5d8551b0",
   "metadata": {},
   "outputs": [
    {
     "name": "stdout",
     "output_type": "stream",
     "text": [
      "Lemma for studies is study\n",
      "Lemma for studying is studying\n",
      "Lemma for cries is cry\n",
      "Lemma for cry is cry\n"
     ]
    }
   ],
   "source": [
    "from nltk.stem import WordNetLemmatizer\n",
    "wordnet_lemmatizer = WordNetLemmatizer()\n",
    "text = \"studies studying cries cry\"\n",
    "tokenization = nltk.word_tokenize(text)\n",
    "for w in tokenization:\n",
    "    print(\"Lemma for {} is {}\".format(w,wordnet_lemmatizer.lemmatize(w)))"
   ]
  },
  {
   "cell_type": "markdown",
   "id": "24b4923c",
   "metadata": {},
   "source": [
    "# Part of Speech (POS)"
   ]
  },
  {
   "cell_type": "code",
   "execution_count": 23,
   "id": "febcf8fb",
   "metadata": {},
   "outputs": [
    {
     "name": "stdout",
     "output_type": "stream",
     "text": [
      "[('The', 'DT')]\n",
      "[('pink', 'NN')]\n",
      "[('sweater', 'NN')]\n",
      "[('fit', 'NN')]\n",
      "[('her', 'PRP$')]\n",
      "[('perfectly', 'RB')]\n"
     ]
    }
   ],
   "source": [
    "import nltk\n",
    "from nltk.tokenize import word_tokenize\n",
    "data=\"The pink sweater fit her perfectly\"\n",
    "words=word_tokenize(data)\n",
    "for word in words:\n",
    "    print(nltk.pos_tag([word]))"
   ]
  },
  {
   "cell_type": "markdown",
   "id": "bc0cfa9b",
   "metadata": {},
   "source": [
    "# Part 2: \n",
    "\n",
    "Create representation of document by calculating Term Frequency and Inverse Document\n",
    "Frequency."
   ]
  },
  {
   "cell_type": "markdown",
   "id": "bd606133",
   "metadata": {},
   "source": [
    "# Import the necessary libraries."
   ]
  },
  {
   "cell_type": "code",
   "execution_count": 24,
   "id": "6a1d9d27",
   "metadata": {},
   "outputs": [
    {
     "name": "stderr",
     "output_type": "stream",
     "text": [
      "C:\\Users\\OM\\AppData\\Roaming\\Python\\Python311\\site-packages\\pandas\\core\\arrays\\masked.py:60: UserWarning: Pandas requires version '1.3.6' or newer of 'bottleneck' (version '1.3.5' currently installed).\n",
      "  from pandas.core import (\n"
     ]
    }
   ],
   "source": [
    "import pandas as pd\n",
    "from sklearn.feature_extraction.text import TfidfVectorizer"
   ]
  },
  {
   "cell_type": "markdown",
   "id": "45d67b57",
   "metadata": {},
   "source": [
    "# Initialize the Documents."
   ]
  },
  {
   "cell_type": "code",
   "execution_count": 25,
   "id": "d6c7f8be",
   "metadata": {},
   "outputs": [],
   "source": [
    "documentA = 'Jupiter is the largest Planet'\n",
    "documentB = 'Mars is the fourth planet from the Sun'"
   ]
  },
  {
   "cell_type": "markdown",
   "id": "3a5d44aa",
   "metadata": {},
   "source": [
    "# Create BagofWords (BoW) for Document A and B."
   ]
  },
  {
   "cell_type": "code",
   "execution_count": 26,
   "id": "7d9332b6",
   "metadata": {},
   "outputs": [],
   "source": [
    "bagOfWordsA = documentA.split(' ')\n",
    "bagOfWordsB = documentB.split(' ')"
   ]
  },
  {
   "cell_type": "markdown",
   "id": "7dd469e4",
   "metadata": {},
   "source": [
    "# Create Collection of Unique words from Document A and B.\n"
   ]
  },
  {
   "cell_type": "code",
   "execution_count": 27,
   "id": "b70b584f",
   "metadata": {},
   "outputs": [],
   "source": [
    "uniqueWords = set(bagOfWordsA).union(set(bagOfWordsB))"
   ]
  },
  {
   "cell_type": "code",
   "execution_count": 28,
   "id": "898445c5",
   "metadata": {},
   "outputs": [
    {
     "data": {
      "text/plain": [
       "{'Jupiter',\n",
       " 'Mars',\n",
       " 'Planet',\n",
       " 'Sun',\n",
       " 'fourth',\n",
       " 'from',\n",
       " 'is',\n",
       " 'largest',\n",
       " 'planet',\n",
       " 'the'}"
      ]
     },
     "execution_count": 28,
     "metadata": {},
     "output_type": "execute_result"
    }
   ],
   "source": [
    "uniqueWords"
   ]
  },
  {
   "cell_type": "markdown",
   "id": "a0de0898",
   "metadata": {},
   "source": [
    "# Create a dictionary of words and their occurrence for each document in the corpus\n"
   ]
  },
  {
   "cell_type": "code",
   "execution_count": 32,
   "id": "bc452ebb",
   "metadata": {},
   "outputs": [
    {
     "data": {
      "text/plain": [
       "{'Sun': 1,\n",
       " 'Jupiter': 0,\n",
       " 'planet': 1,\n",
       " 'largest': 0,\n",
       " 'Planet': 0,\n",
       " 'fourth': 1,\n",
       " 'is': 1,\n",
       " 'Mars': 1,\n",
       " 'the': 2,\n",
       " 'from': 1}"
      ]
     },
     "execution_count": 32,
     "metadata": {},
     "output_type": "execute_result"
    }
   ],
   "source": [
    "numOfWordsA = dict.fromkeys(uniqueWords, 0)\n",
    "for word in bagOfWordsA:\n",
    "    numOfWordsA[word] += 1\n",
    "numOfWordsA"
   ]
  },
  {
   "cell_type": "code",
   "execution_count": 33,
   "id": "b237a635",
   "metadata": {},
   "outputs": [
    {
     "data": {
      "text/plain": [
       "{'Sun': 1,\n",
       " 'Jupiter': 0,\n",
       " 'planet': 1,\n",
       " 'largest': 0,\n",
       " 'Planet': 0,\n",
       " 'fourth': 1,\n",
       " 'is': 1,\n",
       " 'Mars': 1,\n",
       " 'the': 2,\n",
       " 'from': 1}"
      ]
     },
     "execution_count": 33,
     "metadata": {},
     "output_type": "execute_result"
    }
   ],
   "source": [
    "numOfWordsB = dict.fromkeys(uniqueWords, 0)\n",
    "for word in bagOfWordsB:\n",
    "    numOfWordsB[word] += 1\n",
    "numOfWordsB"
   ]
  },
  {
   "cell_type": "markdown",
   "id": "7099c56d",
   "metadata": {},
   "source": [
    "# Compute the term frequency for each of our documents."
   ]
  },
  {
   "cell_type": "code",
   "execution_count": 34,
   "id": "2ff4a209",
   "metadata": {},
   "outputs": [],
   "source": [
    "def computeTF(wordDict, bagOfWords):\n",
    "    tfDict = {}\n",
    "    bagOfWordsCount = len(bagOfWords)\n",
    "    for word, count in wordDict.items():\n",
    "        tfDict[word] = count / float(bagOfWordsCount)\n",
    "    return tfDict"
   ]
  },
  {
   "cell_type": "code",
   "execution_count": 35,
   "id": "088f2514",
   "metadata": {},
   "outputs": [],
   "source": [
    "tfA = computeTF(numOfWordsA, bagOfWordsA)\n",
    "tfB = computeTF(numOfWordsB, bagOfWordsB)"
   ]
  },
  {
   "cell_type": "code",
   "execution_count": 36,
   "id": "28f86799",
   "metadata": {},
   "outputs": [
    {
     "data": {
      "text/plain": [
       "{'Sun': 0.0,\n",
       " 'Jupiter': 0.2,\n",
       " 'planet': 0.0,\n",
       " 'largest': 0.2,\n",
       " 'Planet': 0.2,\n",
       " 'fourth': 0.0,\n",
       " 'is': 0.2,\n",
       " 'Mars': 0.0,\n",
       " 'the': 0.2,\n",
       " 'from': 0.0}"
      ]
     },
     "execution_count": 36,
     "metadata": {},
     "output_type": "execute_result"
    }
   ],
   "source": [
    "tfA"
   ]
  },
  {
   "cell_type": "code",
   "execution_count": 37,
   "id": "4f25b588",
   "metadata": {},
   "outputs": [
    {
     "data": {
      "text/plain": [
       "{'Sun': 0.125,\n",
       " 'Jupiter': 0.0,\n",
       " 'planet': 0.125,\n",
       " 'largest': 0.0,\n",
       " 'Planet': 0.0,\n",
       " 'fourth': 0.125,\n",
       " 'is': 0.125,\n",
       " 'Mars': 0.125,\n",
       " 'the': 0.25,\n",
       " 'from': 0.125}"
      ]
     },
     "execution_count": 37,
     "metadata": {},
     "output_type": "execute_result"
    }
   ],
   "source": [
    "tfB"
   ]
  },
  {
   "cell_type": "markdown",
   "id": "a74d10f5",
   "metadata": {},
   "source": [
    "# Compute the term Inverse Document Frequency.\n"
   ]
  },
  {
   "cell_type": "code",
   "execution_count": 38,
   "id": "57fc487d",
   "metadata": {},
   "outputs": [],
   "source": [
    "def computeIDF(documents):\n",
    "    import math\n",
    "    N = len(documents)\n",
    "    idfDict = dict.fromkeys(documents[0].keys(), 0)\n",
    "    for document in documents:\n",
    "        for word, val in document.items():\n",
    "            if val > 0:\n",
    "                idfDict[word] += 1\n",
    "    for word, val in idfDict.items():\n",
    "        idfDict[word] = math.log(N / float(val))\n",
    "    return idfDict"
   ]
  },
  {
   "cell_type": "code",
   "execution_count": 39,
   "id": "514ef865",
   "metadata": {},
   "outputs": [
    {
     "data": {
      "text/plain": [
       "{'Sun': 0.6931471805599453,\n",
       " 'Jupiter': 0.6931471805599453,\n",
       " 'planet': 0.6931471805599453,\n",
       " 'largest': 0.6931471805599453,\n",
       " 'Planet': 0.6931471805599453,\n",
       " 'fourth': 0.6931471805599453,\n",
       " 'is': 0.0,\n",
       " 'Mars': 0.6931471805599453,\n",
       " 'the': 0.0,\n",
       " 'from': 0.6931471805599453}"
      ]
     },
     "execution_count": 39,
     "metadata": {},
     "output_type": "execute_result"
    }
   ],
   "source": [
    "idfs = computeIDF([numOfWordsA, numOfWordsB])\n",
    "idfs"
   ]
  },
  {
   "cell_type": "markdown",
   "id": "97449935",
   "metadata": {},
   "source": [
    "# Compute the term TF/IDF for all words.\n"
   ]
  },
  {
   "cell_type": "code",
   "execution_count": 40,
   "id": "c78065b2",
   "metadata": {},
   "outputs": [],
   "source": [
    "def computeTFIDF(tfBagOfWords, idfs):\n",
    "    tfidf = {}\n",
    "    for word, val in tfBagOfWords.items():\n",
    "        tfidf[word] = val * idfs[word]\n",
    "    return tfidf"
   ]
  },
  {
   "cell_type": "code",
   "execution_count": 41,
   "id": "464cfb63",
   "metadata": {},
   "outputs": [],
   "source": [
    "tfidfA = computeTFIDF(tfA, idfs)\n",
    "tfidfB = computeTFIDF(tfB, idfs)"
   ]
  },
  {
   "cell_type": "code",
   "execution_count": 42,
   "id": "66f44cb1",
   "metadata": {},
   "outputs": [
    {
     "data": {
      "text/plain": [
       "{'Sun': 0.0,\n",
       " 'Jupiter': 0.13862943611198905,\n",
       " 'planet': 0.0,\n",
       " 'largest': 0.13862943611198905,\n",
       " 'Planet': 0.13862943611198905,\n",
       " 'fourth': 0.0,\n",
       " 'is': 0.0,\n",
       " 'Mars': 0.0,\n",
       " 'the': 0.0,\n",
       " 'from': 0.0}"
      ]
     },
     "execution_count": 42,
     "metadata": {},
     "output_type": "execute_result"
    }
   ],
   "source": [
    "tfidfA"
   ]
  },
  {
   "cell_type": "code",
   "execution_count": 43,
   "id": "9520ba79",
   "metadata": {},
   "outputs": [
    {
     "data": {
      "text/plain": [
       "{'Sun': 0.08664339756999316,\n",
       " 'Jupiter': 0.0,\n",
       " 'planet': 0.08664339756999316,\n",
       " 'largest': 0.0,\n",
       " 'Planet': 0.0,\n",
       " 'fourth': 0.08664339756999316,\n",
       " 'is': 0.0,\n",
       " 'Mars': 0.08664339756999316,\n",
       " 'the': 0.0,\n",
       " 'from': 0.08664339756999316}"
      ]
     },
     "execution_count": 43,
     "metadata": {},
     "output_type": "execute_result"
    }
   ],
   "source": [
    "tfidfB"
   ]
  },
  {
   "cell_type": "markdown",
   "id": "bfcf6fa9",
   "metadata": {},
   "source": [
    "# Converting into the dataframe"
   ]
  },
  {
   "cell_type": "code",
   "execution_count": 44,
   "id": "1310a927",
   "metadata": {},
   "outputs": [
    {
     "data": {
      "text/html": [
       "<div>\n",
       "<style scoped>\n",
       "    .dataframe tbody tr th:only-of-type {\n",
       "        vertical-align: middle;\n",
       "    }\n",
       "\n",
       "    .dataframe tbody tr th {\n",
       "        vertical-align: top;\n",
       "    }\n",
       "\n",
       "    .dataframe thead th {\n",
       "        text-align: right;\n",
       "    }\n",
       "</style>\n",
       "<table border=\"1\" class=\"dataframe\">\n",
       "  <thead>\n",
       "    <tr style=\"text-align: right;\">\n",
       "      <th></th>\n",
       "      <th>Sun</th>\n",
       "      <th>Jupiter</th>\n",
       "      <th>planet</th>\n",
       "      <th>largest</th>\n",
       "      <th>Planet</th>\n",
       "      <th>fourth</th>\n",
       "      <th>is</th>\n",
       "      <th>Mars</th>\n",
       "      <th>the</th>\n",
       "      <th>from</th>\n",
       "    </tr>\n",
       "  </thead>\n",
       "  <tbody>\n",
       "    <tr>\n",
       "      <th>0</th>\n",
       "      <td>0.000000</td>\n",
       "      <td>0.138629</td>\n",
       "      <td>0.000000</td>\n",
       "      <td>0.138629</td>\n",
       "      <td>0.138629</td>\n",
       "      <td>0.000000</td>\n",
       "      <td>0.0</td>\n",
       "      <td>0.000000</td>\n",
       "      <td>0.0</td>\n",
       "      <td>0.000000</td>\n",
       "    </tr>\n",
       "    <tr>\n",
       "      <th>1</th>\n",
       "      <td>0.086643</td>\n",
       "      <td>0.000000</td>\n",
       "      <td>0.086643</td>\n",
       "      <td>0.000000</td>\n",
       "      <td>0.000000</td>\n",
       "      <td>0.086643</td>\n",
       "      <td>0.0</td>\n",
       "      <td>0.086643</td>\n",
       "      <td>0.0</td>\n",
       "      <td>0.086643</td>\n",
       "    </tr>\n",
       "  </tbody>\n",
       "</table>\n",
       "</div>"
      ],
      "text/plain": [
       "        Sun   Jupiter    planet   largest    Planet    fourth   is      Mars  \\\n",
       "0  0.000000  0.138629  0.000000  0.138629  0.138629  0.000000  0.0  0.000000   \n",
       "1  0.086643  0.000000  0.086643  0.000000  0.000000  0.086643  0.0  0.086643   \n",
       "\n",
       "   the      from  \n",
       "0  0.0  0.000000  \n",
       "1  0.0  0.086643  "
      ]
     },
     "execution_count": 44,
     "metadata": {},
     "output_type": "execute_result"
    }
   ],
   "source": [
    "df = pd.DataFrame([tfidfA, tfidfB])\n",
    "df"
   ]
  },
  {
   "cell_type": "code",
   "execution_count": null,
   "id": "18f04aac",
   "metadata": {},
   "outputs": [],
   "source": []
  }
 ],
 "metadata": {
  "kernelspec": {
   "display_name": "Python 3 (ipykernel)",
   "language": "python",
   "name": "python3"
  },
  "language_info": {
   "codemirror_mode": {
    "name": "ipython",
    "version": 3
   },
   "file_extension": ".py",
   "mimetype": "text/x-python",
   "name": "python",
   "nbconvert_exporter": "python",
   "pygments_lexer": "ipython3",
   "version": "3.11.3"
  }
 },
 "nbformat": 4,
 "nbformat_minor": 5
}
