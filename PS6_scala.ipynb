{
 "cells": [
  {
   "cell_type": "code",
   "execution_count": null,
   "id": "986cf49f",
   "metadata": {},
   "outputs": [],
   "source": [
    "Sure, here are Scala programs to accomplish both tasks:\n",
    "\n",
    "Program to find if a number is zero, positive, or negative:\n",
    "\n",
    "scala\n",
    "\n",
    "object NumberType {\n",
    "  def main(args: Array[String]): Unit = {\n",
    "    val num: Int = -5\n",
    "    \n",
    "    if (num == 0) {\n",
    "      println(\"The number is zero.\")\n",
    "    } else if (num > 0) {\n",
    "      println(\"The number is positive.\")\n",
    "    } else {\n",
    "      println(\"The number is negative.\")\n",
    "    }\n",
    "  }\n",
    "}\n",
    "\n",
    "This program takes an integer num and checks if it's zero, positive, or negative, and prints the result accordingly.\n",
    "\n",
    "    Program to print your name:\n",
    "\n",
    "scala\n",
    "\n",
    "object PrintName {\n",
    "  def main(args: Array[String]): Unit = {\n",
    "    val name: String = \"Your Name\"\n",
    "    println(\"My name is \" + name + \".\")\n",
    "  }\n",
    "}\n",
    "\n",
    "Replace \"Your Name\" with your actual name in the name variable. This program simply prints the given name to the console."
   ]
  }
 ],
 "metadata": {
  "kernelspec": {
   "display_name": "Python 3 (ipykernel)",
   "language": "python",
   "name": "python3"
  },
  "language_info": {
   "codemirror_mode": {
    "name": "ipython",
    "version": 3
   },
   "file_extension": ".py",
   "mimetype": "text/x-python",
   "name": "python",
   "nbconvert_exporter": "python",
   "pygments_lexer": "ipython3",
   "version": "3.11.3"
  }
 },
 "nbformat": 4,
 "nbformat_minor": 5
}
