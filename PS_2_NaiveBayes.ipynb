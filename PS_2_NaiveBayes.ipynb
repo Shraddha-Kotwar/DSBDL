{
 "cells": [
  {
   "cell_type": "markdown",
   "id": "18957b6a",
   "metadata": {},
   "source": [
    "# Problem Statement\n",
    "\n",
    "1. Implement Simple Naïve Bayes classification algorithm using Python/R on iris.csv\n",
    "dataset.\n",
    "\n",
    "2. Compute Confusion matrix to find TP, FP, TN, FN, Accuracy, Error rate, Precision, Recall\n",
    "on the given dataset."
   ]
  },
  {
   "cell_type": "code",
   "execution_count": 1,
   "id": "d2148113",
   "metadata": {},
   "outputs": [
    {
     "name": "stderr",
     "output_type": "stream",
     "text": [
      "C:\\Users\\OM\\AppData\\Roaming\\Python\\Python311\\site-packages\\pandas\\core\\arrays\\masked.py:60: UserWarning: Pandas requires version '1.3.6' or newer of 'bottleneck' (version '1.3.5' currently installed).\n",
      "  from pandas.core import (\n"
     ]
    }
   ],
   "source": [
    "import pandas as pd\n",
    "from sklearn.model_selection import train_test_split\n",
    "from sklearn.naive_bayes import GaussianNB\n",
    "from sklearn.metrics import confusion_matrix, accuracy_score, precision_score, recall_score, f1_score\n",
    "\n",
    "# Load the Iris dataset\n",
    "url = \"https://archive.ics.uci.edu/ml/machine-learning-databases/iris/iris.data\"\n",
    "column_names = ['sepal_length', 'sepal_width', 'petal_length', 'petal_width', 'class']\n",
    "iris_df = pd.read_csv(url, names=column_names)\n",
    "\n",
    "# Splitting data into features and target variable\n",
    "X = iris_df.drop('class', axis=1)\n",
    "y = iris_df['class']\n",
    "\n",
    "# Splitting data into training and testing sets\n",
    "X_train, X_test, y_train, y_test = train_test_split(X, y, test_size=0.3, random_state=42)"
   ]
  },
  {
   "cell_type": "code",
   "execution_count": 2,
   "id": "42137b84",
   "metadata": {},
   "outputs": [],
   "source": [
    "# 1. Implement Simple Naïve Bayes classification algorithm\n",
    "# Initialize the Gaussian Naive Bayes classifier\n",
    "naive_bayes = GaussianNB()\n",
    "\n",
    "# Fit the model to the training data\n",
    "naive_bayes.fit(X_train, y_train)\n",
    "\n",
    "# Predict the classes for the test set\n",
    "y_pred = naive_bayes.predict(X_test)"
   ]
  },
  {
   "cell_type": "code",
   "execution_count": 7,
   "id": "c7ec573d",
   "metadata": {},
   "outputs": [
    {
     "name": "stdout",
     "output_type": "stream",
     "text": [
      "Confusion Matrix:\n",
      "[[19  0  0]\n",
      " [ 0 12  1]\n",
      " [ 0  0 13]]\n",
      "True Positives: 19\n",
      "False Positives: 0\n",
      "True Negatives: 0\n",
      "False Negatives: 12\n",
      "Accuracy: 0.9777777777777777\n",
      "Error Rate: 0.022222222222222254\n",
      "Precision: 0.9793650793650793\n",
      "Recall: 0.9777777777777777\n",
      "F1 Score: 0.9777448559670783\n"
     ]
    }
   ],
   "source": [
    "import numpy as np\n",
    "\n",
    "# Counting the number of classes\n",
    "num_classes = len(np.unique(y_test))\n",
    "\n",
    "# Computing the confusion matrix\n",
    "conf_matrix = confusion_matrix(y_test, y_pred)\n",
    "\n",
    "# If binary classification, unpack the values\n",
    "if num_classes == 2:\n",
    "    tn, fp, fn, tp = conf_matrix.ravel()\n",
    "    accuracy = (tp + tn) / (tp + tn + fp + fn)\n",
    "    error_rate = 1 - accuracy\n",
    "    precision = tp / (tp + fp)\n",
    "    recall = tp / (tp + fn)\n",
    "    f1 = 2 * (precision * recall) / (precision + recall)\n",
    "else:\n",
    "    # For multi-class classification, compute micro-average metrics\n",
    "    accuracy = accuracy_score(y_test, y_pred)\n",
    "    error_rate = 1 - accuracy\n",
    "    precision = precision_score(y_test, y_pred, average='weighted')\n",
    "    recall = recall_score(y_test, y_pred, average='weighted')\n",
    "    f1 = f1_score(y_test, y_pred, average='weighted')\n",
    "\n",
    "print(\"Confusion Matrix:\")\n",
    "print(conf_matrix)\n",
    "print(\"True Positives:\", conf_matrix[0,0])\n",
    "print(\"False Positives:\", conf_matrix[0,1])\n",
    "print(\"True Negatives:\", conf_matrix[1,0])\n",
    "print(\"False Negatives:\", conf_matrix[1,1])\n",
    "print(\"Accuracy:\", accuracy)\n",
    "print(\"Error Rate:\", error_rate)\n",
    "print(\"Precision:\", precision)\n",
    "print(\"Recall:\", recall)\n",
    "print(\"F1 Score:\", f1)\n"
   ]
  },
  {
   "cell_type": "code",
   "execution_count": null,
   "id": "919ffc1f",
   "metadata": {},
   "outputs": [],
   "source": []
  }
 ],
 "metadata": {
  "kernelspec": {
   "display_name": "Python 3 (ipykernel)",
   "language": "python",
   "name": "python3"
  },
  "language_info": {
   "codemirror_mode": {
    "name": "ipython",
    "version": 3
   },
   "file_extension": ".py",
   "mimetype": "text/x-python",
   "name": "python",
   "nbconvert_exporter": "python",
   "pygments_lexer": "ipython3",
   "version": "3.11.3"
  }
 },
 "nbformat": 4,
 "nbformat_minor": 5
}
