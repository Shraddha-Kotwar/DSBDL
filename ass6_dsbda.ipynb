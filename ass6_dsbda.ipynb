{
 "cells": [
  {
   "cell_type": "code",
   "execution_count": 30,
   "id": "dbc676bb",
   "metadata": {},
   "outputs": [],
   "source": [
    "import numpy as np\n",
    "import pandas as pd\n",
    "import seaborn as sns"
   ]
  },
  {
   "cell_type": "code",
   "execution_count": 5,
   "id": "3f657a2a",
   "metadata": {},
   "outputs": [],
   "source": [
    "from sklearn import datasets\n",
    "from sklearn import metrics\n",
    "from sklearn import preprocessing\n",
    "from sklearn.naive_bayes import GaussianNB\n",
    "from sklearn.naive_bayes import MultinomialNB\n",
    "from sklearn.model_selection import train_test_split as tts"
   ]
  },
  {
   "cell_type": "code",
   "execution_count": 18,
   "id": "12c752aa",
   "metadata": {},
   "outputs": [],
   "source": [
    "iris = datasets.load_iris()"
   ]
  },
  {
   "cell_type": "code",
   "execution_count": 20,
   "id": "cd35f47b",
   "metadata": {},
   "outputs": [],
   "source": [
    "data = pd.DataFrame({\"sl\":iris.data[:,0], \"sw\":iris.data[:,1], \"pl\":iris.data[:,2], \"pw\":iris.data[:,3], 'species': iris.target})\n"
   ]
  },
  {
   "cell_type": "code",
   "execution_count": 21,
   "id": "d568f4bd",
   "metadata": {},
   "outputs": [
    {
     "data": {
      "text/html": [
       "<div>\n",
       "<style scoped>\n",
       "    .dataframe tbody tr th:only-of-type {\n",
       "        vertical-align: middle;\n",
       "    }\n",
       "\n",
       "    .dataframe tbody tr th {\n",
       "        vertical-align: top;\n",
       "    }\n",
       "\n",
       "    .dataframe thead th {\n",
       "        text-align: right;\n",
       "    }\n",
       "</style>\n",
       "<table border=\"1\" class=\"dataframe\">\n",
       "  <thead>\n",
       "    <tr style=\"text-align: right;\">\n",
       "      <th></th>\n",
       "      <th>sl</th>\n",
       "      <th>sw</th>\n",
       "      <th>pl</th>\n",
       "      <th>pw</th>\n",
       "      <th>species</th>\n",
       "    </tr>\n",
       "  </thead>\n",
       "  <tbody>\n",
       "    <tr>\n",
       "      <th>0</th>\n",
       "      <td>5.1</td>\n",
       "      <td>3.5</td>\n",
       "      <td>1.4</td>\n",
       "      <td>0.2</td>\n",
       "      <td>0</td>\n",
       "    </tr>\n",
       "    <tr>\n",
       "      <th>1</th>\n",
       "      <td>4.9</td>\n",
       "      <td>3.0</td>\n",
       "      <td>1.4</td>\n",
       "      <td>0.2</td>\n",
       "      <td>0</td>\n",
       "    </tr>\n",
       "    <tr>\n",
       "      <th>2</th>\n",
       "      <td>4.7</td>\n",
       "      <td>3.2</td>\n",
       "      <td>1.3</td>\n",
       "      <td>0.2</td>\n",
       "      <td>0</td>\n",
       "    </tr>\n",
       "    <tr>\n",
       "      <th>3</th>\n",
       "      <td>4.6</td>\n",
       "      <td>3.1</td>\n",
       "      <td>1.5</td>\n",
       "      <td>0.2</td>\n",
       "      <td>0</td>\n",
       "    </tr>\n",
       "    <tr>\n",
       "      <th>4</th>\n",
       "      <td>5.0</td>\n",
       "      <td>3.6</td>\n",
       "      <td>1.4</td>\n",
       "      <td>0.2</td>\n",
       "      <td>0</td>\n",
       "    </tr>\n",
       "  </tbody>\n",
       "</table>\n",
       "</div>"
      ],
      "text/plain": [
       "    sl   sw   pl   pw  species\n",
       "0  5.1  3.5  1.4  0.2        0\n",
       "1  4.9  3.0  1.4  0.2        0\n",
       "2  4.7  3.2  1.3  0.2        0\n",
       "3  4.6  3.1  1.5  0.2        0\n",
       "4  5.0  3.6  1.4  0.2        0"
      ]
     },
     "execution_count": 21,
     "metadata": {},
     "output_type": "execute_result"
    }
   ],
   "source": [
    "data.head()"
   ]
  },
  {
   "cell_type": "code",
   "execution_count": 22,
   "id": "e3954ef9",
   "metadata": {},
   "outputs": [
    {
     "data": {
      "text/plain": [
       "array([0, 1, 2])"
      ]
     },
     "execution_count": 22,
     "metadata": {},
     "output_type": "execute_result"
    }
   ],
   "source": [
    "data['species'].unique()"
   ]
  },
  {
   "cell_type": "markdown",
   "id": "9b874958",
   "metadata": {},
   "source": [
    "# Perform Data Preprocessing\n",
    "\n",
    "● Convert Categorical to Numerical Values if applicable\n",
    "\n",
    "● Check for Null Value\n",
    "\n",
    "● Divide the dataset into Independent(X) and\n",
    "Dependent(Y)variables.\n",
    "\n",
    "● Split the dataset into training and testing datasets\n",
    "\n",
    "● Scale the Features if necessary."
   ]
  },
  {
   "cell_type": "code",
   "execution_count": 23,
   "id": "d71a6b0b",
   "metadata": {},
   "outputs": [
    {
     "data": {
      "text/plain": [
       "sl         0\n",
       "sw         0\n",
       "pl         0\n",
       "pw         0\n",
       "species    0\n",
       "dtype: int64"
      ]
     },
     "execution_count": 23,
     "metadata": {},
     "output_type": "execute_result"
    }
   ],
   "source": [
    "data.isnull().sum()"
   ]
  },
  {
   "cell_type": "code",
   "execution_count": 24,
   "id": "1afeb2f3",
   "metadata": {},
   "outputs": [],
   "source": [
    "from sklearn.model_selection import train_test_split\n",
    "X=data[['sl','sw','pl','pw']]\n",
    "y=data[\"species\"]\n",
    "X_train, X_test, y_train, y_test = train_test_split(X,y, test_size=0.3, random_state=0)"
   ]
  },
  {
   "cell_type": "markdown",
   "id": "44122313",
   "metadata": {},
   "source": [
    "# Use Naive Bayes algorithm( Train the Machine ) to Create Model"
   ]
  },
  {
   "cell_type": "code",
   "execution_count": 26,
   "id": "15e75f69",
   "metadata": {},
   "outputs": [
    {
     "data": {
      "text/html": [
       "<style>#sk-container-id-1 {color: black;background-color: white;}#sk-container-id-1 pre{padding: 0;}#sk-container-id-1 div.sk-toggleable {background-color: white;}#sk-container-id-1 label.sk-toggleable__label {cursor: pointer;display: block;width: 100%;margin-bottom: 0;padding: 0.3em;box-sizing: border-box;text-align: center;}#sk-container-id-1 label.sk-toggleable__label-arrow:before {content: \"▸\";float: left;margin-right: 0.25em;color: #696969;}#sk-container-id-1 label.sk-toggleable__label-arrow:hover:before {color: black;}#sk-container-id-1 div.sk-estimator:hover label.sk-toggleable__label-arrow:before {color: black;}#sk-container-id-1 div.sk-toggleable__content {max-height: 0;max-width: 0;overflow: hidden;text-align: left;background-color: #f0f8ff;}#sk-container-id-1 div.sk-toggleable__content pre {margin: 0.2em;color: black;border-radius: 0.25em;background-color: #f0f8ff;}#sk-container-id-1 input.sk-toggleable__control:checked~div.sk-toggleable__content {max-height: 200px;max-width: 100%;overflow: auto;}#sk-container-id-1 input.sk-toggleable__control:checked~label.sk-toggleable__label-arrow:before {content: \"▾\";}#sk-container-id-1 div.sk-estimator input.sk-toggleable__control:checked~label.sk-toggleable__label {background-color: #d4ebff;}#sk-container-id-1 div.sk-label input.sk-toggleable__control:checked~label.sk-toggleable__label {background-color: #d4ebff;}#sk-container-id-1 input.sk-hidden--visually {border: 0;clip: rect(1px 1px 1px 1px);clip: rect(1px, 1px, 1px, 1px);height: 1px;margin: -1px;overflow: hidden;padding: 0;position: absolute;width: 1px;}#sk-container-id-1 div.sk-estimator {font-family: monospace;background-color: #f0f8ff;border: 1px dotted black;border-radius: 0.25em;box-sizing: border-box;margin-bottom: 0.5em;}#sk-container-id-1 div.sk-estimator:hover {background-color: #d4ebff;}#sk-container-id-1 div.sk-parallel-item::after {content: \"\";width: 100%;border-bottom: 1px solid gray;flex-grow: 1;}#sk-container-id-1 div.sk-label:hover label.sk-toggleable__label {background-color: #d4ebff;}#sk-container-id-1 div.sk-serial::before {content: \"\";position: absolute;border-left: 1px solid gray;box-sizing: border-box;top: 0;bottom: 0;left: 50%;z-index: 0;}#sk-container-id-1 div.sk-serial {display: flex;flex-direction: column;align-items: center;background-color: white;padding-right: 0.2em;padding-left: 0.2em;position: relative;}#sk-container-id-1 div.sk-item {position: relative;z-index: 1;}#sk-container-id-1 div.sk-parallel {display: flex;align-items: stretch;justify-content: center;background-color: white;position: relative;}#sk-container-id-1 div.sk-item::before, #sk-container-id-1 div.sk-parallel-item::before {content: \"\";position: absolute;border-left: 1px solid gray;box-sizing: border-box;top: 0;bottom: 0;left: 50%;z-index: -1;}#sk-container-id-1 div.sk-parallel-item {display: flex;flex-direction: column;z-index: 1;position: relative;background-color: white;}#sk-container-id-1 div.sk-parallel-item:first-child::after {align-self: flex-end;width: 50%;}#sk-container-id-1 div.sk-parallel-item:last-child::after {align-self: flex-start;width: 50%;}#sk-container-id-1 div.sk-parallel-item:only-child::after {width: 0;}#sk-container-id-1 div.sk-dashed-wrapped {border: 1px dashed gray;margin: 0 0.4em 0.5em 0.4em;box-sizing: border-box;padding-bottom: 0.4em;background-color: white;}#sk-container-id-1 div.sk-label label {font-family: monospace;font-weight: bold;display: inline-block;line-height: 1.2em;}#sk-container-id-1 div.sk-label-container {text-align: center;}#sk-container-id-1 div.sk-container {/* jupyter's `normalize.less` sets `[hidden] { display: none; }` but bootstrap.min.css set `[hidden] { display: none !important; }` so we also need the `!important` here to be able to override the default hidden behavior on the sphinx rendered scikit-learn.org. See: https://github.com/scikit-learn/scikit-learn/issues/21755 */display: inline-block !important;position: relative;}#sk-container-id-1 div.sk-text-repr-fallback {display: none;}</style><div id=\"sk-container-id-1\" class=\"sk-top-container\"><div class=\"sk-text-repr-fallback\"><pre>GaussianNB()</pre><b>In a Jupyter environment, please rerun this cell to show the HTML representation or trust the notebook. <br />On GitHub, the HTML representation is unable to render, please try loading this page with nbviewer.org.</b></div><div class=\"sk-container\" hidden><div class=\"sk-item\"><div class=\"sk-estimator sk-toggleable\"><input class=\"sk-toggleable__control sk-hidden--visually\" id=\"sk-estimator-id-1\" type=\"checkbox\" checked><label for=\"sk-estimator-id-1\" class=\"sk-toggleable__label sk-toggleable__label-arrow\">GaussianNB</label><div class=\"sk-toggleable__content\"><pre>GaussianNB()</pre></div></div></div></div></div>"
      ],
      "text/plain": [
       "GaussianNB()"
      ]
     },
     "execution_count": 26,
     "metadata": {},
     "output_type": "execute_result"
    }
   ],
   "source": [
    "# import the class\n",
    "from sklearn.naive_bayes import GaussianNB\n",
    "gaussian = GaussianNB()\n",
    "gaussian.fit(X_train, y_train)"
   ]
  },
  {
   "cell_type": "code",
   "execution_count": 27,
   "id": "4a39994c",
   "metadata": {},
   "outputs": [],
   "source": [
    "# Predict the y_pred for all values of train_x and test_x\n",
    "Y_pred = gaussian.predict(X_test)"
   ]
  },
  {
   "cell_type": "markdown",
   "id": "2f33b955",
   "metadata": {},
   "source": [
    "# 7:Evaluate the performance of Model for train_y and test_y"
   ]
  },
  {
   "cell_type": "code",
   "execution_count": 32,
   "id": "c7302304",
   "metadata": {},
   "outputs": [
    {
     "name": "stdout",
     "output_type": "stream",
     "text": [
      "Confusion matrix:  [[16  0  0]\n",
      " [ 0 18  0]\n",
      " [ 0  0 11]]\n",
      "Accuracy 1.0\n",
      "precision 1.0\n",
      "Recall 1.0\n"
     ]
    }
   ],
   "source": [
    "from sklearn.metrics import precision_score,confusion_matrix,accuracy_score,recall_score\n",
    "cm = confusion_matrix(y_test, Y_pred)\n",
    "print(\"Confusion matrix: \",cm)\n",
    "accuracy = accuracy_score(y_test,Y_pred)\n",
    "print(\"Accuracy\",accuracy)\n",
    "precision =precision_score(y_test, Y_pred,average='micro')\n",
    "print(\"precision\",precision)\n",
    "recall = recall_score(y_test, Y_pred,average='micro')\n",
    "print(\"Recall\",recall)"
   ]
  },
  {
   "cell_type": "code",
   "execution_count": 31,
   "id": "f8c5ca04",
   "metadata": {},
   "outputs": [
    {
     "data": {
      "text/plain": [
       "<Axes: >"
      ]
     },
     "execution_count": 31,
     "metadata": {},
     "output_type": "execute_result"
    },
    {
     "data": {
      "image/png": "[encoded data removed]",
      "text/plain": [
       "<Figure size 640x480 with 2 Axes>"
      ]
     },
     "metadata": {},
     "output_type": "display_data"
    }
   ],
   "source": [
    "sns.heatmap(data.corr(),annot=True)"
   ]
  },
  {
   "cell_type": "code",
   "execution_count": 9,
   "id": "030a0277",
   "metadata": {},
   "outputs": [],
   "source": [
    "#Naive Bayes The technique is easiest to understand when described using binary or\n",
    "#categorical input values.\n",
    "from sklearn.metrics import make_scorer, accuracy_score,precision_score\n",
    "from sklearn.metrics import classification_report\n",
    "from sklearn.metrics import confusion_matrix\n",
    "from sklearn.metrics import accuracy_score ,precision_score,recall_score,f1_score"
   ]
  },
  {
   "cell_type": "code",
   "execution_count": 10,
   "id": "da2da066",
   "metadata": {},
   "outputs": [],
   "source": [
    "gaussian = GaussianNB()\n",
    "gaussian.fit(X_train, y_train)\n",
    "Y_pred = gaussian.predict(X_test)\n",
    "accuracy_nb=round(accuracy_score(y_test,Y_pred)* 100, 2)\n",
    "acc_gaussian = round(gaussian.score(X_train, y_train) * 100, 2)"
   ]
  },
  {
   "cell_type": "code",
   "execution_count": 13,
   "id": "93e1453f",
   "metadata": {},
   "outputs": [
    {
     "name": "stdout",
     "output_type": "stream",
     "text": [
      "Confusion matrix for Naive Bayes\n",
      " [[16  0  0]\n",
      " [ 0 18  0]\n",
      " [ 0  0 11]]\n",
      "accuracy_Naive Bayes: 1.000\n",
      "precision_Naive Bayes: 1.000\n",
      "recall_Naive Bayes: 1.000\n",
      "f1-score_Naive Bayes : 1.000\n"
     ]
    }
   ],
   "source": [
    "cm = confusion_matrix(y_test, Y_pred)\n",
    "accuracy = accuracy_score(y_test,Y_pred)\n",
    "precision =precision_score(y_test, Y_pred,average='micro')\n",
    "recall = recall_score(y_test, Y_pred,average='micro')\n",
    "f1 = f1_score(y_test,Y_pred,average='micro')\n",
    "print('Confusion matrix for Naive Bayes\\n',cm)\n",
    "print('accuracy_Naive Bayes: %.3f' %accuracy)\n",
    "print('precision_Naive Bayes: %.3f' %precision)\n",
    "print('recall_Naive Bayes: %.3f' %recall)\n",
    "print('f1-score_Naive Bayes : %.3f' %f1)\n",
    "MNB = MultinomialNB(alpha=0.6)\n",
    "MNB.fit(X_train, y_train)\n",
    "Y_pred = MNB.predict(X_test)\n",
    "accuracy_nb=round(accuracy_score(y_test,Y_pred)* 100, 2)\n",
    "acc_MNB = round(MNB.score(X_train, y_train) * 100, 2)"
   ]
  },
  {
   "cell_type": "code",
   "execution_count": 14,
   "id": "6a9602c8",
   "metadata": {},
   "outputs": [
    {
     "ename": "SyntaxError",
     "evalue": "invalid decimal literal (2714117861.py, line 9)",
     "output_type": "error",
     "traceback": [
      "\u001b[1;36m  Cell \u001b[1;32mIn[14], line 9\u001b[1;36m\u001b[0m\n\u001b[1;33m    https://colab.research.google.com/drive/12znAUQlTNAbGUH-urzgxgjnlebZrybCd#scrollTo=rEW-MV2v6ijB&printMode=true 3/4\u001b[0m\n\u001b[1;37m                                             ^\u001b[0m\n\u001b[1;31mSyntaxError\u001b[0m\u001b[1;31m:\u001b[0m invalid decimal literal\n"
     ]
    }
   ],
   "source": [
    "MNB = MultinomialNB(alpha=0.6)\n",
    "MNB.fit(X_train, y_train)\n",
    "Y_pred = MNB.predict(X_test)\n",
    "accuracy_nb=round(accuracy_score(y_test,Y_pred)* 100, 2)\n",
    "acc MNB = round(MNB.score(X train, y train) * 100, 2)\n",
    "\n",
    "4/25/23, 3:48 PM assignment6.ipynb - Colaboratory\n",
    "\n",
    "https://colab.research.google.com/drive/12znAUQlTNAbGUH-urzgxgjnlebZrybCd#scrollTo=rEW-MV2v6ijB&printMode=true 3/4\n",
    "acc_MNB round(MNB.score(X_train, y_train) 100, 2)\n",
    "cm = confusion_matrix(y_test, Y_pred)\n",
    "accuracy = accuracy_score(y_test,Y_pred)\n",
    "precision =precision_score(y_test, Y_pred,average='micro')\n",
    "recall = recall_score(y_test, Y_pred,average='micro')\n",
    "f1 = f1_score(y_test,Y_pred,average='micro')\n",
    "print('Confusion matrix for Naive Bayes\\n',cm)\n",
    "print('accuracy_Naive Bayes: %.3f' %accuracy)\n",
    "print('precision_Naive Bayes: %.3f' %precision)\n",
    "print('recall_Naive Bayes: %.3f' %recall)\n",
    "print('f1-score_Naive Bayes : %.3f' %f1)"
   ]
  },
  {
   "cell_type": "code",
   "execution_count": 15,
   "id": "33e351b2",
   "metadata": {},
   "outputs": [
    {
     "name": "stdout",
     "output_type": "stream",
     "text": [
      "Confusion matrix for Naive Bayes\n",
      " [[ 0  0 16]\n",
      " [ 0  0 18]\n",
      " [ 0  0 11]]\n",
      "accuracy_Naive Bayes: 0.244\n",
      "precision_Naive Bayes: 0.244\n",
      "recall_Naive Bayes: 0.244\n",
      "f1-score_Naive Bayes : 0.244\n"
     ]
    }
   ],
   "source": [
    "from sklearn.naive_bayes import BernoulliNB\n",
    "BNB = BernoulliNB(fit_prior = False)\n",
    "BNB.fit(X_train, y_train)\n",
    "Y_pred = BNB.predict(X_test)\n",
    "accuracy_nb=round(accuracy_score(y_test,Y_pred)* 100, 2)\n",
    "acc_MNB = round(BNB.score(X_train, y_train) * 100, 2)\n",
    "cm = confusion_matrix(y_test, Y_pred)\n",
    "accuracy = accuracy_score(y_test,Y_pred)\n",
    "precision =precision_score(y_test, Y_pred,average='micro')\n",
    "recall = recall_score(y_test, Y_pred,average='micro')\n",
    "f1 = f1_score(y_test,Y_pred,average='micro')\n",
    "print('Confusion matrix for Naive Bayes\\n',cm)\n",
    "print('accuracy_Naive Bayes: %.3f' %accuracy)\n",
    "print('precision_Naive Bayes: %.3f' %precision)\n",
    "print('recall_Naive Bayes: %.3f' %recall)\n",
    "print('f1-score_Naive Bayes : %.3f' %f1)"
   ]
  },
  {
   "cell_type": "code",
   "execution_count": 16,
   "id": "7be56de1",
   "metadata": {},
   "outputs": [
    {
     "name": "stdout",
     "output_type": "stream",
     "text": [
      "Confusion matrix for Naive Bayes\n",
      " [[16  0  0]\n",
      " [18  0  0]\n",
      " [ 8  3  0]]\n",
      "accuracy_Naive Bayes: 0.356\n",
      "precision_Naive Bayes: 0.356\n",
      "recall_Naive Bayes: 0.356\n",
      "f1-score_Naive Bayes : 0.356\n"
     ]
    }
   ],
   "source": [
    "from sklearn.naive_bayes import ComplementNB\n",
    "CNB = ComplementNB(norm = True)\n",
    "CNB.fit(X_train, y_train)\n",
    "Y_pred = CNB.predict(X_test)\n",
    "accuracy_nb=round(accuracy_score(y_test,Y_pred)* 100, 2)\n",
    "acc_MNB = round(CNB.score(X_train, y_train) * 100, 2)\n",
    "cm = confusion_matrix(y_test, Y_pred)\n",
    "accuracy = accuracy_score(y_test,Y_pred)\n",
    "precision =precision_score(y_test, Y_pred,average='micro')\n",
    "recall = recall_score(y_test, Y_pred,average='micro')\n",
    "f1 = f1_score(y_test,Y_pred,average='micro')\n",
    "print('Confusion matrix for Naive Bayes\\n',cm)\n",
    "print('accuracy_Naive Bayes: %.3f' %accuracy)\n",
    "print('precision_Naive Bayes: %.3f' %precision)\n",
    "print('recall_Naive Bayes: %.3f' %recall)\n",
    "print('f1-score_Naive Bayes : %.3f' %f1)"
   ]
  },
  {
   "cell_type": "code",
   "execution_count": null,
   "id": "47bd8112",
   "metadata": {},
   "outputs": [],
   "source": []
  }
 ],
 "metadata": {
  "kernelspec": {
   "display_name": "Python 3 (ipykernel)",
   "language": "python",
   "name": "python3"
  },
  "language_info": {
   "codemirror_mode": {
    "name": "ipython",
    "version": 3
   },
   "file_extension": ".py",
   "mimetype": "text/x-python",
   "name": "python",
   "nbconvert_exporter": "python",
   "pygments_lexer": "ipython3",
   "version": "3.11.3"
  }
 },
 "nbformat": 4,
 "nbformat_minor": 5
}
