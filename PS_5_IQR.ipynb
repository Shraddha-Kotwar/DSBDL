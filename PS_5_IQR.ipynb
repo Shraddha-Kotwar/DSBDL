{
 "cells": [
  {
   "cell_type": "markdown",
   "id": "b8e588bd",
   "metadata": {},
   "source": [
    "# Problem Statement\n",
    "\n",
    "1. Load the demo dataset in dataframe object df\n",
    "\n",
    "2. Detect the outlier using Inter Quantile Range(IQR)\n",
    "\n",
    "3. remove the outliers from the dataset."
   ]
  },
  {
   "cell_type": "code",
   "execution_count": 1,
   "id": "30856bd7",
   "metadata": {},
   "outputs": [
    {
     "name": "stderr",
     "output_type": "stream",
     "text": [
      "C:\\Users\\OM\\AppData\\Roaming\\Python\\Python311\\site-packages\\pandas\\core\\arrays\\masked.py:60: UserWarning: Pandas requires version '1.3.6' or newer of 'bottleneck' (version '1.3.5' currently installed).\n",
      "  from pandas.core import (\n"
     ]
    }
   ],
   "source": [
    "import pandas as pd\n",
    "import numpy as np\n",
    "from scipy.stats import zscore"
   ]
  },
  {
   "cell_type": "code",
   "execution_count": 2,
   "id": "e2c35c8b",
   "metadata": {},
   "outputs": [
    {
     "data": {
      "text/html": [
       "<div>\n",
       "<style scoped>\n",
       "    .dataframe tbody tr th:only-of-type {\n",
       "        vertical-align: middle;\n",
       "    }\n",
       "\n",
       "    .dataframe tbody tr th {\n",
       "        vertical-align: top;\n",
       "    }\n",
       "\n",
       "    .dataframe thead th {\n",
       "        text-align: right;\n",
       "    }\n",
       "</style>\n",
       "<table border=\"1\" class=\"dataframe\">\n",
       "  <thead>\n",
       "    <tr style=\"text-align: right;\">\n",
       "      <th></th>\n",
       "      <th>math score</th>\n",
       "      <th>reading score</th>\n",
       "      <th>writing score</th>\n",
       "      <th>placement score</th>\n",
       "      <th>placement offer count</th>\n",
       "      <th>club join year</th>\n",
       "    </tr>\n",
       "  </thead>\n",
       "  <tbody>\n",
       "    <tr>\n",
       "      <th>0</th>\n",
       "      <td>80</td>\n",
       "      <td>68</td>\n",
       "      <td>70</td>\n",
       "      <td>89</td>\n",
       "      <td>3</td>\n",
       "      <td>2019</td>\n",
       "    </tr>\n",
       "    <tr>\n",
       "      <th>1</th>\n",
       "      <td>71</td>\n",
       "      <td>61</td>\n",
       "      <td>85</td>\n",
       "      <td>91</td>\n",
       "      <td>3</td>\n",
       "      <td>2019</td>\n",
       "    </tr>\n",
       "    <tr>\n",
       "      <th>2</th>\n",
       "      <td>79</td>\n",
       "      <td>16</td>\n",
       "      <td>87</td>\n",
       "      <td>77</td>\n",
       "      <td>2</td>\n",
       "      <td>2018</td>\n",
       "    </tr>\n",
       "    <tr>\n",
       "      <th>3</th>\n",
       "      <td>61</td>\n",
       "      <td>77</td>\n",
       "      <td>74</td>\n",
       "      <td>76</td>\n",
       "      <td>2</td>\n",
       "      <td>2020</td>\n",
       "    </tr>\n",
       "    <tr>\n",
       "      <th>4</th>\n",
       "      <td>78</td>\n",
       "      <td>71</td>\n",
       "      <td>67</td>\n",
       "      <td>90</td>\n",
       "      <td>3</td>\n",
       "      <td>2019</td>\n",
       "    </tr>\n",
       "  </tbody>\n",
       "</table>\n",
       "</div>"
      ],
      "text/plain": [
       "   math score  reading score  writing score  placement score  \\\n",
       "0          80             68             70               89   \n",
       "1          71             61             85               91   \n",
       "2          79             16             87               77   \n",
       "3          61             77             74               76   \n",
       "4          78             71             67               90   \n",
       "\n",
       "   placement offer count  club join year  \n",
       "0                      3            2019  \n",
       "1                      3            2019  \n",
       "2                      2            2018  \n",
       "3                      2            2020  \n",
       "4                      3            2019  "
      ]
     },
     "execution_count": 2,
     "metadata": {},
     "output_type": "execute_result"
    }
   ],
   "source": [
    "df = pd.read_csv(r\"C:\\Users\\OM\\Downloads\\demo1.csv\")\n",
    "df.head()"
   ]
  },
  {
   "cell_type": "code",
   "execution_count": 3,
   "id": "68e3392c",
   "metadata": {},
   "outputs": [],
   "source": [
    "# 2. Detecting outliers using Interquartile Range (IQR)\n",
    "# Calculate the first quartile (Q1) and third quartile (Q3) for each column\n",
    "Q1 = df.quantile(0.25)\n",
    "Q3 = df.quantile(0.75)\n",
    "\n",
    "# Calculate the Interquartile Range (IQR) for each column\n",
    "IQR = Q3 - Q1\n",
    "\n",
    "# Define the lower and upper bounds for outlier detection\n",
    "lower_bound = Q1 - 1.5 * IQR\n",
    "upper_bound = Q3 + 1.5 * IQR\n",
    "\n",
    "# Create a boolean mask for outliers\n",
    "outlier_mask = ((df < lower_bound) | (df > upper_bound)).any(axis=1)\n"
   ]
  },
  {
   "cell_type": "code",
   "execution_count": 4,
   "id": "cd0edc3a",
   "metadata": {},
   "outputs": [
    {
     "name": "stdout",
     "output_type": "stream",
     "text": [
      "DataFrame after removing outliers:\n",
      "    math score  reading score  writing score  placement score  \\\n",
      "0           80             68             70               89   \n",
      "1           71             61             85               91   \n",
      "4           78             71             67               90   \n",
      "5           73             68             90               80   \n",
      "8           76             60             79               77   \n",
      "9           75             65             85               87   \n",
      "12          80             80             78               94   \n",
      "13          78             69             71               90   \n",
      "15          78             62             79               93   \n",
      "16          86             78             80               88   \n",
      "18          75             62             86               87   \n",
      "19          82             70             87               94   \n",
      "22          72             60             78               94   \n",
      "23          74             65             71               84   \n",
      "24          75             77             83               77   \n",
      "27          71             79             88               85   \n",
      "\n",
      "    placement offer count  club join year  \n",
      "0                       3            2019  \n",
      "1                       3            2019  \n",
      "4                       3            2019  \n",
      "5                       2            2019  \n",
      "8                       2            2020  \n",
      "9                       3            2018  \n",
      "12                      3            2021  \n",
      "13                      3            2019  \n",
      "15                      3            2021  \n",
      "16                      3            2019  \n",
      "18                      3            2019  \n",
      "19                      3            2019  \n",
      "22                      3            2019  \n",
      "23                      2            2019  \n",
      "24                      2            2020  \n",
      "27                      3            2021  \n"
     ]
    }
   ],
   "source": [
    "# 3. Remove the outliers from the dataset\n",
    "cleaned_df = df[~outlier_mask]\n",
    "\n",
    "# Display the cleaned DataFrame\n",
    "print(\"DataFrame after removing outliers:\")\n",
    "print(cleaned_df)"
   ]
  },
  {
   "cell_type": "code",
   "execution_count": null,
   "id": "9c7df654",
   "metadata": {},
   "outputs": [],
   "source": []
  },
  {
   "cell_type": "code",
   "execution_count": null,
   "id": "0d51f59a",
   "metadata": {},
   "outputs": [],
   "source": []
  }
 ],
 "metadata": {
  "kernelspec": {
   "display_name": "Python 3 (ipykernel)",
   "language": "python",
   "name": "python3"
  },
  "language_info": {
   "codemirror_mode": {
    "name": "ipython",
    "version": 3
   },
   "file_extension": ".py",
   "mimetype": "text/x-python",
   "name": "python",
   "nbconvert_exporter": "python",
   "pygments_lexer": "ipython3",
   "version": "3.11.3"
  }
 },
 "nbformat": 4,
 "nbformat_minor": 5
}
